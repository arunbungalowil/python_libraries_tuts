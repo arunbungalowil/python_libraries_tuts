{
  "nbformat": 4,
  "nbformat_minor": 0,
  "metadata": {
    "colab": {
      "provenance": []
    },
    "kernelspec": {
      "name": "python3",
      "display_name": "Python 3"
    },
    "language_info": {
      "name": "python"
    }
  },
  "cells": [
    {
      "cell_type": "markdown",
      "source": [
        "# Pandas tutorial for beginners\n",
        "1. Pandas is a popular Python library for data manipulation and analysis\n",
        "2. It provides data structures and functions that make it easy to work with structured data, such as spreadsheets or SQL tables."
      ],
      "metadata": {
        "id": "4OBtS8TB1rV-"
      }
    },
    {
      "cell_type": "code",
      "source": [
        "import pandas as pd\n",
        "import numpy as np"
      ],
      "metadata": {
        "id": "Xv7f-g2p2AGg"
      },
      "execution_count": null,
      "outputs": []
    },
    {
      "cell_type": "markdown",
      "source": [
        "Pandas deals with the following three data structures −\n",
        "\n",
        "1. Series\n",
        "2. DataFrame\n",
        "3. Panel"
      ],
      "metadata": {
        "id": "dII6ibro4uHN"
      }
    },
    {
      "cell_type": "code",
      "source": [
        "# Series: It is a one-dimensional array holding data of any type.\n",
        "# creating empty series\n",
        "\n",
        "ser = pd.Series()\n",
        "#print(\"Pandas Series\",ser)\n",
        "\n",
        "arr = np.array([2,4,6,8,10])\n",
        "ser = pd.Series(arr)\n",
        "print(ser)"
      ],
      "metadata": {
        "colab": {
          "base_uri": "https://localhost:8080/"
        },
        "id": "f0UqXMj72B0p",
        "outputId": "a8a9b12c-37d1-49a9-fbe4-f043ee3c06c8"
      },
      "execution_count": null,
      "outputs": [
        {
          "output_type": "stream",
          "name": "stdout",
          "text": [
            "0     2\n",
            "1     4\n",
            "2     6\n",
            "3     8\n",
            "4    10\n",
            "dtype: int64\n"
          ]
        },
        {
          "output_type": "stream",
          "name": "stderr",
          "text": [
            "<ipython-input-5-9bea26f60cf7>:4: FutureWarning: The default dtype for empty Series will be 'object' instead of 'float64' in a future version. Specify a dtype explicitly to silence this warning.\n",
            "  ser = pd.Series()\n"
          ]
        }
      ]
    },
    {
      "cell_type": "code",
      "source": [
        "tem_data = pd.Series([41,38,39,35], index = ['day1','day2','day3','day4'])\n",
        "print(tem_data)\n",
        "print('=====================')\n",
        "print(tem_data['day4'])"
      ],
      "metadata": {
        "colab": {
          "base_uri": "https://localhost:8080/"
        },
        "id": "rpCuIyfA7dxL",
        "outputId": "852b0655-a134-409d-9a5a-5b9634655958"
      },
      "execution_count": null,
      "outputs": [
        {
          "output_type": "stream",
          "name": "stdout",
          "text": [
            "day1    41\n",
            "day2    38\n",
            "day3    39\n",
            "day4    35\n",
            "dtype: int64\n",
            "=====================\n",
            "35\n"
          ]
        }
      ]
    },
    {
      "cell_type": "code",
      "source": [
        "data = np.arange(7)\n",
        "print(data)\n",
        "\n",
        "pd_data = pd.Series(data, index = [100,200,300,400,500,600,700])\n",
        "print(pd_data)"
      ],
      "metadata": {
        "colab": {
          "base_uri": "https://localhost:8080/"
        },
        "id": "MViZIYXp9f0h",
        "outputId": "e5a5389f-2ee8-4e33-8a89-bd527b4cfbaf"
      },
      "execution_count": null,
      "outputs": [
        {
          "output_type": "stream",
          "name": "stdout",
          "text": [
            "[0 1 2 3 4 5 6]\n",
            "100    0\n",
            "200    1\n",
            "300    2\n",
            "400    3\n",
            "500    4\n",
            "600    5\n",
            "700    6\n",
            "dtype: int64\n"
          ]
        }
      ]
    },
    {
      "cell_type": "code",
      "source": [
        "pd_data = pd.Series({'name':'Arun','place':'India','Married':'Single','Job':'Student'})\n",
        "print(pd_data)"
      ],
      "metadata": {
        "colab": {
          "base_uri": "https://localhost:8080/"
        },
        "id": "GwvdMuBS7cqd",
        "outputId": "95c11029-a7ce-4ec1-f55b-197a0fca8268"
      },
      "execution_count": null,
      "outputs": [
        {
          "output_type": "stream",
          "name": "stdout",
          "text": [
            "name          Arun\n",
            "place        India\n",
            "Married     Single\n",
            "Job        Student\n",
            "dtype: object\n"
          ]
        }
      ]
    },
    {
      "cell_type": "markdown",
      "source": [
        "Pandas DataFrame is a two-dimensional size-mutable, potentially heterogeneous tabular data structure with labeled axes (rows and columns). A Data frame is a two-dimensional data structure, i.e., data is aligned in a tabular fashion in rows and columns. Pandas DataFrame consists of three principal components, the data, rows, and columns."
      ],
      "metadata": {
        "id": "UEU1ROuV6_Gb"
      }
    },
    {
      "cell_type": "code",
      "source": [
        "# empty DataFram\n",
        "df = pd.DataFrame()\n",
        "print(df)"
      ],
      "metadata": {
        "colab": {
          "base_uri": "https://localhost:8080/"
        },
        "id": "Q0R5U5cZArbM",
        "outputId": "b5e85af6-ef47-4bb1-d682-f761ddc42009"
      },
      "execution_count": null,
      "outputs": [
        {
          "output_type": "stream",
          "name": "stdout",
          "text": [
            "Empty DataFrame\n",
            "Columns: []\n",
            "Index: []\n"
          ]
        }
      ]
    },
    {
      "cell_type": "code",
      "source": [
        "#Create a DataFrame from Lists\n",
        "df = pd.DataFrame([1,2,3,4,5])\n",
        "print(df)"
      ],
      "metadata": {
        "colab": {
          "base_uri": "https://localhost:8080/"
        },
        "id": "kKwxeGCBA1Pc",
        "outputId": "818b4b07-9d3f-400d-a2ec-f174b187ab1a"
      },
      "execution_count": null,
      "outputs": [
        {
          "output_type": "stream",
          "name": "stdout",
          "text": [
            "   0\n",
            "0  1\n",
            "1  2\n",
            "2  3\n",
            "3  4\n",
            "4  5\n"
          ]
        }
      ]
    },
    {
      "cell_type": "code",
      "source": [
        "data = [['Bob',30],['Sam',29],['Sara',27]]\n",
        "df = pd.DataFrame(data,index = [100,200,300],columns=['Name','Age'], dtype = object)\n",
        "print(df)"
      ],
      "metadata": {
        "colab": {
          "base_uri": "https://localhost:8080/"
        },
        "id": "v2_bINzRBxx3",
        "outputId": "0ad9c5f3-a066-4368-d2f4-c5fae2d02c46"
      },
      "execution_count": null,
      "outputs": [
        {
          "output_type": "stream",
          "name": "stdout",
          "text": [
            "     Name Age\n",
            "100   Bob  30\n",
            "200   Sam  29\n",
            "300  Sara  27\n"
          ]
        }
      ]
    },
    {
      "cell_type": "code",
      "source": [
        "#Create a DataFrame from Dict of ndarrays / Lists\n",
        "import pandas as pd\n",
        "\n",
        "data = pd.DataFrame({'Names':['Sam','Sara','Mareena','Paul'],'Marks':[30,35,32,33]})\n",
        "print(data)\n"
      ],
      "metadata": {
        "colab": {
          "base_uri": "https://localhost:8080/"
        },
        "id": "I28XLGJKDIWb",
        "outputId": "30203436-a978-4654-c795-0cdde085c48b"
      },
      "execution_count": null,
      "outputs": [
        {
          "output_type": "stream",
          "name": "stdout",
          "text": [
            "     Names  Marks\n",
            "0      Sam     30\n",
            "1     Sara     35\n",
            "2  Mareena     32\n",
            "3     Paul     33\n"
          ]
        }
      ]
    },
    {
      "cell_type": "code",
      "source": [
        "#Create a DataFrame from List of Dicts\n",
        "data = pd.DataFrame([{'a':1,'b':2},{'a':4,'b':3,'c':7}])\n",
        "print(data)"
      ],
      "metadata": {
        "colab": {
          "base_uri": "https://localhost:8080/"
        },
        "id": "ifyjBPI2ECvF",
        "outputId": "fad4a2d0-fad5-4b43-ad6c-760d48acabe4"
      },
      "execution_count": null,
      "outputs": [
        {
          "output_type": "stream",
          "name": "stdout",
          "text": [
            "   a  b    c\n",
            "0  1  2  NaN\n",
            "1  4  3  7.0\n"
          ]
        }
      ]
    },
    {
      "cell_type": "code",
      "source": [
        "import pandas as pd\n",
        "data = [{'a': 1, 'b': 2},{'a': 5, 'b': 10, 'c': 20}]\n",
        "\n",
        "#With two column indices, values same as dictionary keys\n",
        "df1 = pd.DataFrame(data,index = ['first','second'],columns = ['a','b'])\n",
        "#With two column indices with one index with other name\n",
        "df2 = pd.DataFrame(data, index=['first', 'second'], columns=['a', 'b1'])\n",
        "print(df1)\n",
        "print(df2)"
      ],
      "metadata": {
        "colab": {
          "base_uri": "https://localhost:8080/"
        },
        "id": "0taXunTbF4qG",
        "outputId": "2228c5bf-963a-4e9a-dc2d-1532022e19a5"
      },
      "execution_count": null,
      "outputs": [
        {
          "output_type": "stream",
          "name": "stdout",
          "text": [
            "        a   b\n",
            "first   1   2\n",
            "second  5  10\n",
            "        a  b1\n",
            "first   1 NaN\n",
            "second  5 NaN\n"
          ]
        }
      ]
    },
    {
      "cell_type": "code",
      "source": [
        "#column selection\n",
        "num = [[1,3,5,7,9],\n",
        "      [2,4,6,8,10]]\n",
        "df = pd.DataFrame(num)\n",
        "print(df)\n",
        "print(\"------------\")\n",
        "print(df[1])"
      ],
      "metadata": {
        "colab": {
          "base_uri": "https://localhost:8080/"
        },
        "id": "QdNoti1o5VOy",
        "outputId": "7856fd9a-c10e-4184-94c5-09fdfe25e8b2"
      },
      "execution_count": null,
      "outputs": [
        {
          "output_type": "stream",
          "name": "stdout",
          "text": [
            "   0  1  2  3   4\n",
            "0  1  3  5  7   9\n",
            "1  2  4  6  8  10\n",
            "------------\n",
            "0    3\n",
            "1    4\n",
            "Name: 1, dtype: int64\n"
          ]
        }
      ]
    },
    {
      "cell_type": "code",
      "source": [
        "import pandas as pd\n",
        "\n",
        "d = {'one' : pd.Series([1, 2, 3], index=['a', 'b', 'c']),\n",
        "   'two' : pd.Series([1, 2, 3, 4], index=['a', 'b', 'c', 'd'])}\n",
        "\n",
        "df = pd.DataFrame(d)\n",
        "\n",
        "# Adding a new column to an existing DataFrame object with column label by passing new series\n",
        "\n",
        "print(\"Adding a new column by passing as Series:\")\n",
        "df['three']=pd.Series([10,20,30],index=['a','b','c'])\n",
        "print(df)\n",
        "\n",
        "print (\"Adding a new column using the existing columns in DataFrame:\")\n",
        "df['four']=df['one']+df['three']\n",
        "\n",
        "print(df)"
      ],
      "metadata": {
        "colab": {
          "base_uri": "https://localhost:8080/"
        },
        "id": "wU_t-yBhHu0N",
        "outputId": "41d0f652-29bb-44ef-a478-fb26d67bac8e"
      },
      "execution_count": null,
      "outputs": [
        {
          "output_type": "stream",
          "name": "stdout",
          "text": [
            "Adding a new column by passing as Series:\n",
            "   one  two  three\n",
            "a  1.0    1   10.0\n",
            "b  2.0    2   20.0\n",
            "c  3.0    3   30.0\n",
            "d  NaN    4    NaN\n",
            "Adding a new column using the existing columns in DataFrame:\n",
            "   one  two  three  four\n",
            "a  1.0    1   10.0  11.0\n",
            "b  2.0    2   20.0  22.0\n",
            "c  3.0    3   30.0  33.0\n",
            "d  NaN    4    NaN   NaN\n"
          ]
        }
      ]
    },
    {
      "cell_type": "code",
      "source": [
        "# colum selection\n",
        "print(df['one'])\n"
      ],
      "metadata": {
        "colab": {
          "base_uri": "https://localhost:8080/"
        },
        "id": "ksoUewp3I3Pd",
        "outputId": "cc7ab095-8d8f-45a2-ddbf-0e437e714d59"
      },
      "execution_count": null,
      "outputs": [
        {
          "output_type": "stream",
          "name": "stdout",
          "text": [
            "a    1.0\n",
            "b    2.0\n",
            "c    3.0\n",
            "d    NaN\n",
            "Name: one, dtype: float64\n"
          ]
        }
      ]
    },
    {
      "cell_type": "code",
      "source": [
        "# row selection loc()\n",
        "print(df.loc['a'])"
      ],
      "metadata": {
        "colab": {
          "base_uri": "https://localhost:8080/"
        },
        "id": "UN6IsrwGJmyp",
        "outputId": "2739478f-5f5e-49a1-8daf-1b594f098b76"
      },
      "execution_count": null,
      "outputs": [
        {
          "output_type": "stream",
          "name": "stdout",
          "text": [
            "one       1.0\n",
            "two       1.0\n",
            "three    10.0\n",
            "four     11.0\n",
            "Name: a, dtype: float64\n"
          ]
        }
      ]
    },
    {
      "cell_type": "code",
      "source": [
        "#iloc()\n",
        "print(df.iloc[1])"
      ],
      "metadata": {
        "colab": {
          "base_uri": "https://localhost:8080/"
        },
        "id": "h50eGXdHJsQJ",
        "outputId": "d2c2571a-615f-483e-fd41-4fd26356cc69"
      },
      "execution_count": null,
      "outputs": [
        {
          "output_type": "stream",
          "name": "stdout",
          "text": [
            "one       2.0\n",
            "two       2.0\n",
            "three    20.0\n",
            "four     22.0\n",
            "Name: b, dtype: float64\n"
          ]
        }
      ]
    },
    {
      "cell_type": "code",
      "source": [
        "import pandas as pd\n",
        "import numpy as np\n",
        "\n",
        "#creating dictionary of series\n",
        "d = {'name':pd.Series(['Tom','Jack','Steve']),\n",
        "     'age':pd.Series([24,12,26]),\n",
        "     'height':pd.Series([172,167,170])}\n",
        "\n",
        "# creating a dataframe\n",
        "df = pd.DataFrame(d)\n",
        "print(df)"
      ],
      "metadata": {
        "colab": {
          "base_uri": "https://localhost:8080/"
        },
        "id": "oDGBSimEKsjX",
        "outputId": "40dc0fa0-aefc-4f9b-d89d-48f365dae0f8"
      },
      "execution_count": null,
      "outputs": [
        {
          "output_type": "stream",
          "name": "stdout",
          "text": [
            "    name  age  height\n",
            "0    Tom   24     172\n",
            "1   Jack   12     167\n",
            "2  Steve   26     170\n"
          ]
        }
      ]
    },
    {
      "cell_type": "code",
      "source": [
        "# transpose\n",
        "print(df.T)"
      ],
      "metadata": {
        "colab": {
          "base_uri": "https://localhost:8080/"
        },
        "id": "vz_JrDVLQvSx",
        "outputId": "bc94c6ab-83ee-4ffc-c384-e3f03759edfa"
      },
      "execution_count": null,
      "outputs": [
        {
          "output_type": "stream",
          "name": "stdout",
          "text": [
            "          0     1      2\n",
            "name    Tom  Jack  Steve\n",
            "age      24    12     26\n",
            "height  172   167    170\n"
          ]
        }
      ]
    },
    {
      "cell_type": "code",
      "source": [
        "# axes\n",
        "print(df.axes)"
      ],
      "metadata": {
        "colab": {
          "base_uri": "https://localhost:8080/"
        },
        "id": "vLuuywPWRelH",
        "outputId": "c16d2776-81b2-4c5a-c0c6-d8396f0d249d"
      },
      "execution_count": null,
      "outputs": [
        {
          "output_type": "stream",
          "name": "stdout",
          "text": [
            "[RangeIndex(start=0, stop=3, step=1), Index(['name', 'age', 'height'], dtype='object')]\n"
          ]
        }
      ]
    },
    {
      "cell_type": "code",
      "source": [
        "#dtype\n",
        "print(df.dtypes)"
      ],
      "metadata": {
        "colab": {
          "base_uri": "https://localhost:8080/"
        },
        "id": "yZvlRqxjRszg",
        "outputId": "4e76c4cf-b4b1-4feb-ee1e-ee4896603fec"
      },
      "execution_count": null,
      "outputs": [
        {
          "output_type": "stream",
          "name": "stdout",
          "text": [
            "name      object\n",
            "age        int64\n",
            "height     int64\n",
            "dtype: object\n"
          ]
        }
      ]
    },
    {
      "cell_type": "code",
      "source": [
        "#ndim\n",
        "print(df.ndim)"
      ],
      "metadata": {
        "colab": {
          "base_uri": "https://localhost:8080/"
        },
        "id": "IDhYL2yNR5Yj",
        "outputId": "3ab789e3-c63a-47cd-a6a1-88b28d00d7dc"
      },
      "execution_count": null,
      "outputs": [
        {
          "output_type": "stream",
          "name": "stdout",
          "text": [
            "2\n"
          ]
        }
      ]
    },
    {
      "cell_type": "code",
      "source": [
        "#shape\n",
        "print(df.shape)"
      ],
      "metadata": {
        "colab": {
          "base_uri": "https://localhost:8080/"
        },
        "id": "3Jfri30SSVvq",
        "outputId": "ec6770ad-5c4b-4fa6-9efb-c2275dadb09c"
      },
      "execution_count": null,
      "outputs": [
        {
          "output_type": "stream",
          "name": "stdout",
          "text": [
            "(3, 3)\n"
          ]
        }
      ]
    },
    {
      "cell_type": "code",
      "source": [
        "#size of datafram, it is the product of rows and columns\n",
        "print(df.size)"
      ],
      "metadata": {
        "colab": {
          "base_uri": "https://localhost:8080/"
        },
        "id": "mwNZb-khSbAH",
        "outputId": "38a3a0ae-747c-4ff1-8e24-f0a2d59888d7"
      },
      "execution_count": null,
      "outputs": [
        {
          "output_type": "stream",
          "name": "stdout",
          "text": [
            "9\n"
          ]
        }
      ]
    },
    {
      "cell_type": "code",
      "source": [
        "print(df.head(1)) # print first n rows"
      ],
      "metadata": {
        "colab": {
          "base_uri": "https://localhost:8080/"
        },
        "id": "N01bN1FbSsOH",
        "outputId": "fe071213-fc21-4bf3-9250-2272d648dd10"
      },
      "execution_count": null,
      "outputs": [
        {
          "output_type": "stream",
          "name": "stdout",
          "text": [
            "  name  age  height\n",
            "0  Tom   24     172\n"
          ]
        }
      ]
    },
    {
      "cell_type": "code",
      "source": [
        "print(df.tail(1)) # print last n rows"
      ],
      "metadata": {
        "colab": {
          "base_uri": "https://localhost:8080/"
        },
        "id": "29hVeNDyS0Fe",
        "outputId": "43b9472d-7aab-4b8b-df73-0db1ee671013"
      },
      "execution_count": null,
      "outputs": [
        {
          "output_type": "stream",
          "name": "stdout",
          "text": [
            "    name  age  height\n",
            "2  Steve   26     170\n"
          ]
        }
      ]
    },
    {
      "cell_type": "code",
      "source": [
        "import pandas as pd\n",
        "import numpy as np\n",
        "\n",
        "#Create a Dictionary of series\n",
        "d = {'Name':pd.Series(['Tom','James','Ricky','Vin','Steve','Smith','Jack',\n",
        "   'Lee','David','Gasper','Betina','Andres']),\n",
        "   'Age':pd.Series([25,26,25,23,30,29,23,34,40,30,51,46]),\n",
        "   'Rating':pd.Series([4.23,3.24,3.98,2.56,3.20,4.6,3.8,3.78,2.98,4.80,4.10,3.65])\n",
        "}\n",
        "# creating a datafrme\n",
        "df = pd.DataFrame(d)\n",
        "print(df)"
      ],
      "metadata": {
        "colab": {
          "base_uri": "https://localhost:8080/"
        },
        "id": "p0mTmu76TByI",
        "outputId": "2950de58-1b78-4f86-d5fa-70b637f89b48"
      },
      "execution_count": null,
      "outputs": [
        {
          "output_type": "stream",
          "name": "stdout",
          "text": [
            "      Name  Age  Rating\n",
            "0      Tom   25    4.23\n",
            "1    James   26    3.24\n",
            "2    Ricky   25    3.98\n",
            "3      Vin   23    2.56\n",
            "4    Steve   30    3.20\n",
            "5    Smith   29    4.60\n",
            "6     Jack   23    3.80\n",
            "7      Lee   34    3.78\n",
            "8    David   40    2.98\n",
            "9   Gasper   30    4.80\n",
            "10  Betina   51    4.10\n",
            "11  Andres   46    3.65\n"
          ]
        }
      ]
    },
    {
      "cell_type": "code",
      "source": [
        "#When axis=0, it means you want to perform the operation vertically, along the rows.\n",
        "#In this case, functions like .sum() would sum the values within each column for each row.\n",
        "print(df.sum(axis = 0))"
      ],
      "metadata": {
        "colab": {
          "base_uri": "https://localhost:8080/"
        },
        "id": "p1rh-V5eTtiL",
        "outputId": "d83f5354-2baa-4942-f3e9-d2bf5983917b"
      },
      "execution_count": null,
      "outputs": [
        {
          "output_type": "stream",
          "name": "stdout",
          "text": [
            "Name      TomJamesRickyVinSteveSmithJackLeeDavidGasperBe...\n",
            "Age                                                     382\n",
            "Rating                                                44.92\n",
            "dtype: object\n"
          ]
        }
      ]
    },
    {
      "cell_type": "code",
      "source": [
        "#When axis=1, it means you want to perform the operation horizontally, along the columns.\n",
        "#In this case, functions like .sum() would sum the values within each row for each column.\n",
        "print(df.sum(axis = 1))"
      ],
      "metadata": {
        "colab": {
          "base_uri": "https://localhost:8080/"
        },
        "id": "iydYI0_1XgmP",
        "outputId": "2aec9433-4e17-4d61-fb36-0d34a392a8c8"
      },
      "execution_count": null,
      "outputs": [
        {
          "output_type": "stream",
          "name": "stdout",
          "text": [
            "0     29.23\n",
            "1     29.24\n",
            "2     28.98\n",
            "3     25.56\n",
            "4     33.20\n",
            "5     33.60\n",
            "6     26.80\n",
            "7     37.78\n",
            "8     42.98\n",
            "9     34.80\n",
            "10    55.10\n",
            "11    49.65\n",
            "dtype: float64\n"
          ]
        },
        {
          "output_type": "stream",
          "name": "stderr",
          "text": [
            "<ipython-input-67-20471a7ba046>:3: FutureWarning: Dropping of nuisance columns in DataFrame reductions (with 'numeric_only=None') is deprecated; in a future version this will raise TypeError.  Select only valid columns before calling the reduction.\n",
            "  print(df.sum(axis = 1))\n"
          ]
        }
      ]
    },
    {
      "cell_type": "code",
      "source": [
        "# mean\n",
        "print(df.mean())"
      ],
      "metadata": {
        "colab": {
          "base_uri": "https://localhost:8080/"
        },
        "id": "dqrDmB9cUJsH",
        "outputId": "953080a8-0e66-4c18-d261-432e66bfad5d"
      },
      "execution_count": null,
      "outputs": [
        {
          "output_type": "stream",
          "name": "stdout",
          "text": [
            "Age       31.833333\n",
            "Rating     3.743333\n",
            "dtype: float64\n"
          ]
        },
        {
          "output_type": "stream",
          "name": "stderr",
          "text": [
            "<ipython-input-68-162207b554ab>:2: FutureWarning: The default value of numeric_only in DataFrame.mean is deprecated. In a future version, it will default to False. In addition, specifying 'numeric_only=None' is deprecated. Select only valid columns or specify the value of numeric_only to silence this warning.\n",
            "  print(df.mean())\n"
          ]
        }
      ]
    },
    {
      "cell_type": "code",
      "source": [
        "# std()\n",
        "# Returns the standard deviation of the numerical columns.\n",
        "\n",
        "print(df.std())"
      ],
      "metadata": {
        "colab": {
          "base_uri": "https://localhost:8080/"
        },
        "id": "DlcfmBGrUaK7",
        "outputId": "ff085d19-c208-4d92-8cdf-05cd44b8b62c"
      },
      "execution_count": null,
      "outputs": [
        {
          "output_type": "stream",
          "name": "stdout",
          "text": [
            "Age       9.232682\n",
            "Rating    0.661628\n",
            "dtype: float64\n"
          ]
        },
        {
          "output_type": "stream",
          "name": "stderr",
          "text": [
            "<ipython-input-69-88f8a4a3d0e2>:4: FutureWarning: The default value of numeric_only in DataFrame.std is deprecated. In a future version, it will default to False. In addition, specifying 'numeric_only=None' is deprecated. Select only valid columns or specify the value of numeric_only to silence this warning.\n",
            "  print(df.std())\n"
          ]
        }
      ]
    },
    {
      "cell_type": "code",
      "source": [
        "#Median of Values\n",
        "print(df.median())"
      ],
      "metadata": {
        "colab": {
          "base_uri": "https://localhost:8080/"
        },
        "id": "6_d0kuiuZIot",
        "outputId": "6a9e5726-954a-4550-855f-fe2bf18f7e3d"
      },
      "execution_count": null,
      "outputs": [
        {
          "output_type": "stream",
          "name": "stdout",
          "text": [
            "Age       29.50\n",
            "Rating     3.79\n",
            "dtype: float64\n"
          ]
        },
        {
          "output_type": "stream",
          "name": "stderr",
          "text": [
            "<ipython-input-71-41f1415613a8>:2: FutureWarning: The default value of numeric_only in DataFrame.median is deprecated. In a future version, it will default to False. In addition, specifying 'numeric_only=None' is deprecated. Select only valid columns or specify the value of numeric_only to silence this warning.\n",
            "  print(df.median())\n"
          ]
        }
      ]
    },
    {
      "cell_type": "code",
      "source": [
        "# mode\n",
        "print(df.mode())"
      ],
      "metadata": {
        "colab": {
          "base_uri": "https://localhost:8080/"
        },
        "id": "ytQPnNKCZQp2",
        "outputId": "577fc13a-c1b7-4e8f-eb89-cb7136e07cc6"
      },
      "execution_count": null,
      "outputs": [
        {
          "output_type": "stream",
          "name": "stdout",
          "text": [
            "      Name   Age  Rating\n",
            "0   Andres  23.0    2.56\n",
            "1   Betina  25.0    2.98\n",
            "2    David  30.0    3.20\n",
            "3   Gasper   NaN    3.24\n",
            "4     Jack   NaN    3.65\n",
            "5    James   NaN    3.78\n",
            "6      Lee   NaN    3.80\n",
            "7    Ricky   NaN    3.98\n",
            "8    Smith   NaN    4.10\n",
            "9    Steve   NaN    4.23\n",
            "10     Tom   NaN    4.60\n",
            "11     Vin   NaN    4.80\n"
          ]
        }
      ]
    },
    {
      "cell_type": "code",
      "source": [
        "# minimum value in the columns\n",
        "print(df.min())"
      ],
      "metadata": {
        "colab": {
          "base_uri": "https://localhost:8080/"
        },
        "id": "u8DWFlLcaR75",
        "outputId": "cd073698-e818-45eb-d228-62aacc04c617"
      },
      "execution_count": null,
      "outputs": [
        {
          "output_type": "stream",
          "name": "stdout",
          "text": [
            "Name      Andres\n",
            "Age           23\n",
            "Rating      2.56\n",
            "dtype: object\n"
          ]
        }
      ]
    },
    {
      "cell_type": "code",
      "source": [
        "# maximum value in each columns\n",
        "print(df.max())"
      ],
      "metadata": {
        "colab": {
          "base_uri": "https://localhost:8080/"
        },
        "id": "ZCcVltDQac0A",
        "outputId": "39c5f534-6726-47f4-82cc-7977f7882130"
      },
      "execution_count": null,
      "outputs": [
        {
          "output_type": "stream",
          "name": "stdout",
          "text": [
            "Name      Vin\n",
            "Age        51\n",
            "Rating    4.8\n",
            "dtype: object\n"
          ]
        }
      ]
    },
    {
      "cell_type": "code",
      "source": [
        "#describe()\n",
        "#The describe() function computes a summary of statistics pertaining to the DataFrame columns.\n",
        "print(df.describe())"
      ],
      "metadata": {
        "colab": {
          "base_uri": "https://localhost:8080/"
        },
        "id": "ItoOazcQZfzX",
        "outputId": "3e860d4d-608d-48f5-9ed8-f7f7359e4972"
      },
      "execution_count": null,
      "outputs": [
        {
          "output_type": "stream",
          "name": "stdout",
          "text": [
            "             Age     Rating\n",
            "count  12.000000  12.000000\n",
            "mean   31.833333   3.743333\n",
            "std     9.232682   0.661628\n",
            "min    23.000000   2.560000\n",
            "25%    25.000000   3.230000\n",
            "50%    29.500000   3.790000\n",
            "75%    35.500000   4.132500\n",
            "max    51.000000   4.800000\n"
          ]
        }
      ]
    },
    {
      "cell_type": "code",
      "source": [
        "n = np.random.rand(10,4)\n",
        "print(n)"
      ],
      "metadata": {
        "colab": {
          "base_uri": "https://localhost:8080/"
        },
        "id": "RdkkJzSOkBXm",
        "outputId": "00c2e277-805d-41f1-bb50-228b0d44f6da"
      },
      "execution_count": null,
      "outputs": [
        {
          "output_type": "stream",
          "name": "stdout",
          "text": [
            "[[0.691278   0.35910223 0.62925616 0.29652364]\n",
            " [0.55333682 0.36620681 0.98567499 0.3999078 ]\n",
            " [0.50348114 0.54847901 0.12431403 0.02696727]\n",
            " [0.83954813 0.4799922  0.23550537 0.56214711]\n",
            " [0.49750231 0.00807882 0.99626191 0.88202578]\n",
            " [0.82617014 0.50497706 0.35042312 0.26249819]\n",
            " [0.81544451 0.28954979 0.26794858 0.29669519]\n",
            " [0.55554788 0.29027196 0.3149252  0.25942067]\n",
            " [0.81180994 0.57276946 0.41681914 0.68668779]\n",
            " [0.64304789 0.01687852 0.10143912 0.32626877]]\n"
          ]
        }
      ]
    },
    {
      "cell_type": "markdown",
      "source": [
        " numpy.random.randn function generates random numbers from a standard normal distribution (also known as a Gaussian distribution) with a mean of 0 and a standard deviation of 1. It produces random numbers that are typically distributed around 0, and the distribution follows a bell-shaped curve."
      ],
      "metadata": {
        "id": "43LHreO_ueLt"
      }
    },
    {
      "cell_type": "code",
      "source": [
        "n = np.random.randn(5,4)\n",
        "print(n)"
      ],
      "metadata": {
        "colab": {
          "base_uri": "https://localhost:8080/"
        },
        "id": "13AlY3rAtZvD",
        "outputId": "608b331d-624a-43b9-f2cb-cd669f74c050"
      },
      "execution_count": null,
      "outputs": [
        {
          "output_type": "stream",
          "name": "stdout",
          "text": [
            "[[ 0.88063752  0.69696882 -0.62909126 -0.30849553]\n",
            " [ 1.21734607  1.41521363  0.38933073  3.82752188]\n",
            " [-0.86494704  0.51316437  1.18471166  0.45601397]\n",
            " [ 0.72010781  0.66233902 -1.39920616 -0.33636236]\n",
            " [-0.42098348 -0.68023073 -0.08918535 -0.92411763]]\n"
          ]
        }
      ]
    },
    {
      "cell_type": "markdown",
      "source": [
        "#plotting"
      ],
      "metadata": {
        "id": "8afNVjkMugmG"
      }
    },
    {
      "cell_type": "code",
      "source": [
        "import pandas as pd\n",
        "import numpy as np\n",
        "\n",
        "df = pd.DataFrame(np.random.rand(5,4), columns =['a','b','c','d'])\n",
        "df.plot.bar()"
      ],
      "metadata": {
        "colab": {
          "base_uri": "https://localhost:8080/",
          "height": 442
        },
        "id": "eyC1CeVytgB9",
        "outputId": "f20a7e2a-d93d-4b6f-edc0-4f82b1871586"
      },
      "execution_count": null,
      "outputs": [
        {
          "output_type": "execute_result",
          "data": {
            "text/plain": [
              "<Axes: >"
            ]
          },
          "metadata": {},
          "execution_count": 115
        },
        {
          "output_type": "display_data",
          "data": {
            "text/plain": [
              "<Figure size 640x480 with 1 Axes>"
            ],
            "image/png": "[encoded data removed]"
          },
          "metadata": {}
        }
      ]
    },
    {
      "cell_type": "code",
      "source": [
        "df.plot()"
      ],
      "metadata": {
        "colab": {
          "base_uri": "https://localhost:8080/",
          "height": 447
        },
        "id": "OOv-HfTouysC",
        "outputId": "61568770-f8e1-43cf-ea1f-fa60e95816d9"
      },
      "execution_count": null,
      "outputs": [
        {
          "output_type": "execute_result",
          "data": {
            "text/plain": [
              "<Axes: >"
            ]
          },
          "metadata": {},
          "execution_count": 116
        },
        {
          "output_type": "display_data",
          "data": {
            "text/plain": [
              "<Figure size 640x480 with 1 Axes>"
            ],
            "image/png": "[encoded data removed]"
          },
          "metadata": {}
        }
      ]
    },
    {
      "cell_type": "code",
      "source": [
        "df.plot.hist()"
      ],
      "metadata": {
        "colab": {
          "base_uri": "https://localhost:8080/",
          "height": 447
        },
        "id": "z4QoB-u8vV_b",
        "outputId": "8256097b-cef1-42dd-ad44-bd5923b46f66"
      },
      "execution_count": null,
      "outputs": [
        {
          "output_type": "execute_result",
          "data": {
            "text/plain": [
              "<Axes: ylabel='Frequency'>"
            ]
          },
          "metadata": {},
          "execution_count": 117
        },
        {
          "output_type": "display_data",
          "data": {
            "text/plain": [
              "<Figure size 640x480 with 1 Axes>"
            ],
            "image/png": "[encoded data removed]"
          },
          "metadata": {}
        }
      ]
    },
    {
      "cell_type": "code",
      "source": [
        "df.plot.box()"
      ],
      "metadata": {
        "colab": {
          "base_uri": "https://localhost:8080/",
          "height": 447
        },
        "id": "t7IlYPtYvpyT",
        "outputId": "d1caee3a-2545-4345-d76b-131c3efa01a1"
      },
      "execution_count": null,
      "outputs": [
        {
          "output_type": "execute_result",
          "data": {
            "text/plain": [
              "<Axes: >"
            ]
          },
          "metadata": {},
          "execution_count": 118
        },
        {
          "output_type": "display_data",
          "data": {
            "text/plain": [
              "<Figure size 640x480 with 1 Axes>"
            ],
            "image/png": "[encoded data removed]"
          },
          "metadata": {}
        }
      ]
    },
    {
      "cell_type": "code",
      "source": [
        "df.plot.scatter(x = 'a', y = 'b')"
      ],
      "metadata": {
        "colab": {
          "base_uri": "https://localhost:8080/",
          "height": 466
        },
        "id": "RRj3Hj34vw4B",
        "outputId": "1d55ac0e-6a9c-4ab0-fdb0-d6da65ddd39b"
      },
      "execution_count": null,
      "outputs": [
        {
          "output_type": "execute_result",
          "data": {
            "text/plain": [
              "<Axes: xlabel='a', ylabel='b'>"
            ]
          },
          "metadata": {},
          "execution_count": 120
        },
        {
          "output_type": "display_data",
          "data": {
            "text/plain": [
              "<Figure size 640x480 with 1 Axes>"
            ],
            "image/png": "[encoded data removed]"
          },
          "metadata": {}
        }
      ]
    },
    {
      "cell_type": "code",
      "source": [
        "df.plot.pie(subplots = True)"
      ],
      "metadata": {
        "colab": {
          "base_uri": "https://localhost:8080/",
          "height": 187
        },
        "id": "Uiy9q9q0vzy7",
        "outputId": "ec935bcd-5a49-43fa-8efc-ce2b34868a34"
      },
      "execution_count": null,
      "outputs": [
        {
          "output_type": "execute_result",
          "data": {
            "text/plain": [
              "array([<Axes: ylabel='a'>, <Axes: ylabel='b'>, <Axes: ylabel='c'>,\n",
              "       <Axes: ylabel='d'>], dtype=object)"
            ]
          },
          "metadata": {},
          "execution_count": 123
        },
        {
          "output_type": "display_data",
          "data": {
            "text/plain": [
              "<Figure size 640x480 with 4 Axes>"
            ],
            "image/png": "[encoded data removed]"
          },
          "metadata": {}
        }
      ]
    },
    {
      "cell_type": "code",
      "source": [
        "df.plot.area()"
      ],
      "metadata": {
        "colab": {
          "base_uri": "https://localhost:8080/",
          "height": 447
        },
        "id": "bqNzfeNpwAFf",
        "outputId": "f1b0f659-47a1-4995-a09c-8816b8198ddd"
      },
      "execution_count": null,
      "outputs": [
        {
          "output_type": "execute_result",
          "data": {
            "text/plain": [
              "<Axes: >"
            ]
          },
          "metadata": {},
          "execution_count": 124
        },
        {
          "output_type": "display_data",
          "data": {
            "text/plain": [
              "<Figure size 640x480 with 1 Axes>"
            ],
            "image/png": "[encoded data removed]"
          },
          "metadata": {}
        }
      ]
    },
    {
      "cell_type": "code",
      "source": [],
      "metadata": {
        "id": "Z3FtW57jwvIm"
      },
      "execution_count": null,
      "outputs": []
    }
  ]
}