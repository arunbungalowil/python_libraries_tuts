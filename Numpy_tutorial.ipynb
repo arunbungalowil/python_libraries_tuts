{
  "nbformat": 4,
  "nbformat_minor": 0,
  "metadata": {
    "colab": {
      "provenance": []
    },
    "kernelspec": {
      "name": "python3",
      "display_name": "Python 3"
    },
    "language_info": {
      "name": "python"
    }
  },
  "cells": [
    {
      "cell_type": "markdown",
      "source": [
        "#NumPy Tutorial for beginners\n",
        "1. NumPy is used for numerical computation in python\n",
        "2. NumPy provides ndimensional array objects\n",
        "3. Array has a fixed size it contain only homogenous datas\n",
        "\n",
        "\n",
        "This is an introductory numpy tutorial."
      ],
      "metadata": {
        "id": "gS9JvnEqr11S"
      }
    },
    {
      "cell_type": "code",
      "source": [
        "# importing numpy\n",
        "import numpy as np"
      ],
      "metadata": {
        "id": "-Yo1x2Y0sRVX"
      },
      "execution_count": 1,
      "outputs": []
    },
    {
      "cell_type": "code",
      "source": [
        "# creating a numpy array using np.array() method\n",
        "numpy_array_1 = np.array((1,3,5,7,9))\n",
        "print(numpy_array_1)\n",
        "print(f'type of numpy_array_1 is {type(numpy_array_1)}')"
      ],
      "metadata": {
        "colab": {
          "base_uri": "https://localhost:8080/"
        },
        "id": "2nrKERBZsVwA",
        "outputId": "5fef5460-0efd-4a5f-e5c4-d096011f6d38"
      },
      "execution_count": null,
      "outputs": [
        {
          "output_type": "stream",
          "name": "stdout",
          "text": [
            "[1 3 5 7 9]\n",
            "type of numpy_array_1 is <class 'numpy.ndarray'>\n"
          ]
        }
      ]
    },
    {
      "cell_type": "code",
      "source": [
        "# converting a list into a numpy array\n",
        "my_list = [x for x in range(11) if x % 2 == 0 ]\n",
        "print(my_list)\n",
        "list_to_numpyarray = np.array(my_list)\n",
        "print(type(list_to_numpyarray))"
      ],
      "metadata": {
        "colab": {
          "base_uri": "https://localhost:8080/"
        },
        "id": "TsjKLI2Sspry",
        "outputId": "3a428ab5-5c72-4e2b-fd83-2f1651fad49e"
      },
      "execution_count": null,
      "outputs": [
        {
          "output_type": "stream",
          "name": "stdout",
          "text": [
            "[0, 2, 4, 6, 8, 10]\n",
            "<class 'numpy.ndarray'>\n"
          ]
        }
      ]
    },
    {
      "cell_type": "markdown",
      "source": [
        "1. vector: 1 dimensional array\n",
        "2. matrix: 2 dimensional array\n",
        "3. tensor: 3 or higher dimensional arrays\n",
        "\n",
        "in numpy dimensions are called axes"
      ],
      "metadata": {
        "id": "6xOKbM4buMWa"
      }
    },
    {
      "cell_type": "markdown",
      "source": [
        "# creating different types of arrays using numpy\n",
        "1. np,array()\n",
        "2. np.zeros()\n",
        "3. np.ones()\n",
        "4. np.arange(start, end, step size)"
      ],
      "metadata": {
        "id": "F9_tsMWhumBS"
      }
    },
    {
      "cell_type": "code",
      "source": [
        "np_zero_array = np.zeros((5)) # creating an array filled with zeros it has five elements\n",
        "#print(np_zero_array)\n",
        "np_zero_array"
      ],
      "metadata": {
        "colab": {
          "base_uri": "https://localhost:8080/"
        },
        "id": "738W7YSOuZwG",
        "outputId": "ce111e77-37ed-403e-b248-0c7a697fb801"
      },
      "execution_count": 21,
      "outputs": [
        {
          "output_type": "execute_result",
          "data": {
            "text/plain": [
              "array([0., 0., 0., 0., 0.])"
            ]
          },
          "metadata": {},
          "execution_count": 21
        }
      ]
    },
    {
      "cell_type": "code",
      "source": [
        "print(np.zeros((3,3),dtype = int))"
      ],
      "metadata": {
        "colab": {
          "base_uri": "https://localhost:8080/"
        },
        "id": "DTsqIdSnpF4V",
        "outputId": "e26082c7-4540-4145-a5ed-b4423231376a"
      },
      "execution_count": null,
      "outputs": [
        {
          "output_type": "stream",
          "name": "stdout",
          "text": [
            "[[0 0 0]\n",
            " [0 0 0]\n",
            " [0 0 0]]\n"
          ]
        }
      ]
    },
    {
      "cell_type": "code",
      "source": [
        "np_ones_array = np.ones(4) # creating an array filled with ones and it has four elements\n",
        "print(np_ones_array)"
      ],
      "metadata": {
        "colab": {
          "base_uri": "https://localhost:8080/"
        },
        "id": "gaHg9ESyvDzl",
        "outputId": "af2b70cb-8d97-446b-eab9-bb632980540b"
      },
      "execution_count": null,
      "outputs": [
        {
          "output_type": "stream",
          "name": "stdout",
          "text": [
            "[1. 1. 1. 1.]\n"
          ]
        }
      ]
    },
    {
      "cell_type": "code",
      "source": [
        "print(np.ones((3,3),dtype = int))\n"
      ],
      "metadata": {
        "colab": {
          "base_uri": "https://localhost:8080/"
        },
        "id": "cPDabXNVpDuH",
        "outputId": "986015ff-9293-4ed9-8f0c-efc86a85697b"
      },
      "execution_count": null,
      "outputs": [
        {
          "output_type": "stream",
          "name": "stdout",
          "text": [
            "[[1 1 1]\n",
            " [1 1 1]\n",
            " [1 1 1]]\n"
          ]
        }
      ]
    },
    {
      "cell_type": "code",
      "source": [
        "np_range_array = np.arange(1,11,2)\n",
        "print(np_range_array)"
      ],
      "metadata": {
        "colab": {
          "base_uri": "https://localhost:8080/"
        },
        "id": "rw-rT2xw2Goc",
        "outputId": "0bcb6f46-9df7-4716-a868-a693adfcb43b"
      },
      "execution_count": null,
      "outputs": [
        {
          "output_type": "stream",
          "name": "stdout",
          "text": [
            "[1 3 5 7 9]\n"
          ]
        }
      ]
    },
    {
      "cell_type": "code",
      "source": [
        "arr = np.arange(1,21).reshape(5,4)\n",
        "print(arr)"
      ],
      "metadata": {
        "colab": {
          "base_uri": "https://localhost:8080/"
        },
        "id": "oEGiRMswsSHX",
        "outputId": "cc282eff-1a8f-449e-c146-3e51e3766eee"
      },
      "execution_count": 22,
      "outputs": [
        {
          "output_type": "stream",
          "name": "stdout",
          "text": [
            "[[ 1  2  3  4]\n",
            " [ 5  6  7  8]\n",
            " [ 9 10 11 12]\n",
            " [13 14 15 16]\n",
            " [17 18 19 20]]\n"
          ]
        }
      ]
    },
    {
      "cell_type": "code",
      "source": [
        "# one dimensional array\n",
        "oned_array = np.array([1,2,3,4,5])\n",
        "print(oned_array)\n",
        "print(oned_array.shape)"
      ],
      "metadata": {
        "colab": {
          "base_uri": "https://localhost:8080/"
        },
        "id": "QWLCArxKvYdF",
        "outputId": "e2e21307-ea63-4ba5-a2ae-cf78f8a05611"
      },
      "execution_count": null,
      "outputs": [
        {
          "output_type": "stream",
          "name": "stdout",
          "text": [
            "[1 2 3 4 5]\n",
            "(5,)\n"
          ]
        }
      ]
    },
    {
      "cell_type": "code",
      "source": [
        "# 2D array\n",
        "twod_array = np.array([[1,2,3],[4,5,6],[7,8,9]])\n",
        "print(twod_array)\n",
        "print(twod_array.shape) # 3,3 means first axis has 3 elements and second axis has 3 elements"
      ],
      "metadata": {
        "colab": {
          "base_uri": "https://localhost:8080/"
        },
        "id": "81knYmau0YYw",
        "outputId": "80b6e3d7-70d2-4cdf-b76a-523145d22eaf"
      },
      "execution_count": null,
      "outputs": [
        {
          "output_type": "stream",
          "name": "stdout",
          "text": [
            "[[1 2 3]\n",
            " [4 5 6]\n",
            " [7 8 9]]\n",
            "(3, 3)\n"
          ]
        }
      ]
    },
    {
      "cell_type": "code",
      "source": [
        "# 3D array\n",
        "threed_array = np.array([[[1, 2, 3], [4, 5, 6],[7,8,9]], [[1, 2, 3], [4, 5, 6],[11,12,13]]])\n",
        "print(threed_array)\n",
        "print(threed_array.shape)"
      ],
      "metadata": {
        "colab": {
          "base_uri": "https://localhost:8080/"
        },
        "id": "Mw7MHcrx0pah",
        "outputId": "82348067-70e4-4c4b-a274-b54fc788fbcd"
      },
      "execution_count": null,
      "outputs": [
        {
          "output_type": "stream",
          "name": "stdout",
          "text": [
            "[[[ 1  2  3]\n",
            "  [ 4  5  6]\n",
            "  [ 7  8  9]]\n",
            "\n",
            " [[ 1  2  3]\n",
            "  [ 4  5  6]\n",
            "  [11 12 13]]]\n",
            "(2, 3, 3)\n"
          ]
        }
      ]
    },
    {
      "cell_type": "markdown",
      "source": [
        "By default data type in numpy is floating point(float64) by using dtype keyword we can specify the data type"
      ],
      "metadata": {
        "id": "PxYnpOOO21Vy"
      }
    },
    {
      "cell_type": "code",
      "source": [
        "x = np.ones(4)\n",
        "print(x)\n",
        "y = np.ones(4, dtype = np.int64)\n",
        "print(y)"
      ],
      "metadata": {
        "colab": {
          "base_uri": "https://localhost:8080/"
        },
        "id": "dwj29-f71Mkc",
        "outputId": "17c27440-c65c-42c2-c6c5-7a613a7704be"
      },
      "execution_count": null,
      "outputs": [
        {
          "output_type": "stream",
          "name": "stdout",
          "text": [
            "[1. 1. 1. 1.]\n",
            "[1 1 1 1]\n"
          ]
        }
      ]
    },
    {
      "cell_type": "code",
      "source": [
        "# sorting of an array\n",
        "np_array_1 = np.array([2, 1, 5, 3, 7, 4, 6, 8])\n",
        "print(np.sort(np_array_1)) # np.sort() method is used to sort the array"
      ],
      "metadata": {
        "colab": {
          "base_uri": "https://localhost:8080/"
        },
        "id": "AlEE4IJ83EgN",
        "outputId": "b0825a05-cf82-4895-c4e3-e09a8058d9a2"
      },
      "execution_count": null,
      "outputs": [
        {
          "output_type": "stream",
          "name": "stdout",
          "text": [
            "[1 2 3 4 5 6 7 8]\n"
          ]
        }
      ]
    },
    {
      "cell_type": "code",
      "source": [
        "# concatenating arrays\n",
        "\n",
        "a = np.array([1,2,3,4])\n",
        "b = np.array([5,6,7,8])\n",
        "c = np.concatenate([a,b])\n",
        "print(c)"
      ],
      "metadata": {
        "id": "O2RZBALb4OOD",
        "colab": {
          "base_uri": "https://localhost:8080/"
        },
        "outputId": "46cf6c27-5ca4-4124-badc-ceb4d38263bb"
      },
      "execution_count": null,
      "outputs": [
        {
          "output_type": "stream",
          "name": "stdout",
          "text": [
            "[1 2 3 4 5 6 7 8]\n"
          ]
        }
      ]
    },
    {
      "cell_type": "markdown",
      "source": [
        "1. axis = 0 refers to the vertical axis or the rows, it means you want to concatenate arrays vertically/ along the rows. stacking them on top of each other.\n",
        "2. axis = 1 refers to the horizontal axis ot the columns, it means youb want to concatenate the arrays horizontally/ along the columns. horizontally extend pr append one array to another."
      ],
      "metadata": {
        "id": "UQIOyPTphG6s"
      }
    },
    {
      "cell_type": "code",
      "source": [
        "x = np.array([[1,2],[3,4]])\n",
        "y = np.array([[5,6],[7,8]])\n",
        "\n",
        "z = np.concatenate([x,y], axis = 0)\n",
        "print(z)"
      ],
      "metadata": {
        "colab": {
          "base_uri": "https://localhost:8080/"
        },
        "id": "JWXX5Ctrc1BT",
        "outputId": "9f46acf0-a027-4973-cf61-6971cf3d4468"
      },
      "execution_count": null,
      "outputs": [
        {
          "output_type": "stream",
          "name": "stdout",
          "text": [
            "[[1 2]\n",
            " [3 4]\n",
            " [5 6]\n",
            " [7 8]]\n"
          ]
        }
      ]
    },
    {
      "cell_type": "code",
      "source": [
        "q = np.concatenate((x,y),axis = 1)\n",
        "print(q)"
      ],
      "metadata": {
        "colab": {
          "base_uri": "https://localhost:8080/"
        },
        "id": "t77KFK3Od_Tq",
        "outputId": "7ffcf154-543c-4ade-a38e-df1aa2d16079"
      },
      "execution_count": null,
      "outputs": [
        {
          "output_type": "stream",
          "name": "stdout",
          "text": [
            "[[1 2 5 6]\n",
            " [3 4 7 8]]\n"
          ]
        }
      ]
    },
    {
      "cell_type": "code",
      "source": [
        "# ndim: tell number of axes pr dimension in the array\n",
        "# size: tell the total number of elements\n",
        "# shape : retruns a tuple of integers that indicate the number of elements stored along each dimension of the array.\n",
        "\n",
        "sample_array1 = np.array([1,2,3,4])\n",
        "print(\"Dimension of the array:\",sample_array1.ndim)\n",
        "print(\"Size of the array:\", sample_array1.size)\n",
        "print(\"Shape of the array:\",sample_array1.shape)\n",
        "sample_array2 = np.array([[1,2],[3,4],[5,6]])\n",
        "print(\"Dimension of the array:\",sample_array2.ndim)\n",
        "print(\"Size of the array:\",sample_array2.size)\n",
        "print(\"Shape of the array:\",sample_array2.shape)"
      ],
      "metadata": {
        "colab": {
          "base_uri": "https://localhost:8080/"
        },
        "id": "lOt6OOf6h1tl",
        "outputId": "7ad21164-523e-4cb7-9c5d-11b42af0d041"
      },
      "execution_count": null,
      "outputs": [
        {
          "output_type": "stream",
          "name": "stdout",
          "text": [
            "Dimension of the array: 1\n",
            "Size of the array: 4\n",
            "Shape of the array: (4,)\n",
            "Dimension of the array: 2\n",
            "Size of the array: 6\n",
            "Shape of the array: (3, 2)\n"
          ]
        }
      ]
    },
    {
      "cell_type": "markdown",
      "source": [
        "1. reshaping an existing array\n",
        "2. reshape()\n",
        "3. total number of elements in the original array must be equal to the total number of elements in the newshape."
      ],
      "metadata": {
        "id": "9H2AB_khlrPC"
      }
    },
    {
      "cell_type": "code",
      "source": [
        "x = np.arange(1,21)\n",
        "print(x)"
      ],
      "metadata": {
        "colab": {
          "base_uri": "https://localhost:8080/"
        },
        "id": "8gzjFnzmj1i_",
        "outputId": "14b47059-ecfe-4666-f64c-3e9ef83e43b6"
      },
      "execution_count": null,
      "outputs": [
        {
          "output_type": "stream",
          "name": "stdout",
          "text": [
            "[ 1  2  3  4  5  6  7  8  9 10 11 12 13 14 15 16 17 18 19 20]\n"
          ]
        }
      ]
    },
    {
      "cell_type": "code",
      "source": [
        "# reshaping x\n",
        "x_reshape = x.reshape(5,4)\n",
        "print(x_reshape)"
      ],
      "metadata": {
        "colab": {
          "base_uri": "https://localhost:8080/"
        },
        "id": "5mwsN6DkuONm",
        "outputId": "0a25e1ed-217a-4a8b-d504-3c95ea7a72b7"
      },
      "execution_count": null,
      "outputs": [
        {
          "output_type": "stream",
          "name": "stdout",
          "text": [
            "[[ 1  2  3  4]\n",
            " [ 5  6  7  8]\n",
            " [ 9 10 11 12]\n",
            " [13 14 15 16]\n",
            " [17 18 19 20]]\n"
          ]
        }
      ]
    },
    {
      "cell_type": "markdown",
      "source": [
        "\n",
        "# indexing and slicing an array"
      ],
      "metadata": {
        "id": "9vMq3YOTu9Qt"
      }
    },
    {
      "cell_type": "code",
      "source": [
        "np_array = np.array([1,2,3,4,5,6])\n",
        "print(np_array)\n",
        "print(np_array[0])\n",
        "print(np_array[1])\n",
        "print(np_array[2])\n",
        "print(np_array[3])\n",
        "print(np_array[4])\n",
        "print(np_array[5])"
      ],
      "metadata": {
        "colab": {
          "base_uri": "https://localhost:8080/"
        },
        "id": "Z_l71BV0uXWt",
        "outputId": "9014a893-f394-4aab-c6dd-9fe86220990e"
      },
      "execution_count": null,
      "outputs": [
        {
          "output_type": "stream",
          "name": "stdout",
          "text": [
            "[1 2 3 4 5 6]\n",
            "1\n",
            "2\n",
            "3\n",
            "4\n",
            "5\n",
            "6\n"
          ]
        }
      ]
    },
    {
      "cell_type": "code",
      "source": [
        "print(np_array)\n",
        "print(\"total length of the array:\",len(np_array))\n",
        "print(np_array[-1])\n",
        "print(np_array[-2])\n",
        "print(np_array[-3])\n",
        "print(np_array[-4])\n",
        "print(np_array[-5])\n",
        "print(np_array[-6])"
      ],
      "metadata": {
        "colab": {
          "base_uri": "https://localhost:8080/"
        },
        "id": "p3aClJN9waby",
        "outputId": "3571d799-5237-482a-89fb-a03761903c73"
      },
      "execution_count": null,
      "outputs": [
        {
          "output_type": "stream",
          "name": "stdout",
          "text": [
            "[1 2 3 4 5 6]\n",
            "total length of the array: 6\n",
            "6\n",
            "5\n",
            "4\n",
            "3\n",
            "2\n",
            "1\n"
          ]
        }
      ]
    },
    {
      "cell_type": "code",
      "source": [
        "print(np_array)\n",
        "print(np_array[1:3])\n",
        "print(np_array[2:])\n",
        "print(np_array[:4])\n",
        "print(np_array[::2])\n",
        "print(np_array[:])\n",
        "print(np_array[-3:-1])"
      ],
      "metadata": {
        "colab": {
          "base_uri": "https://localhost:8080/"
        },
        "id": "GGTUKbHvvIar",
        "outputId": "c3c8cab6-4cc3-443b-f6b0-133c9b5d2516"
      },
      "execution_count": null,
      "outputs": [
        {
          "output_type": "stream",
          "name": "stdout",
          "text": [
            "[1 2 3 4 5 6]\n",
            "[2 3]\n",
            "[3 4 5 6]\n",
            "[1 2 3 4]\n",
            "[1 3 5]\n",
            "[1 2 3 4 5 6]\n",
            "[4 5]\n"
          ]
        }
      ]
    },
    {
      "cell_type": "code",
      "source": [
        "twod_array = np.array([[1,2,3],[4,5,6],[7,8,9]])\n",
        "print(twod_array)\n",
        "print(twod_array[0])\n",
        "print(twod_array[1])\n",
        "print(twod_array[2])"
      ],
      "metadata": {
        "colab": {
          "base_uri": "https://localhost:8080/"
        },
        "id": "1o52SFRbdrJu",
        "outputId": "8b447fbb-86a0-4195-e83c-20e0b1c579dd"
      },
      "execution_count": null,
      "outputs": [
        {
          "output_type": "stream",
          "name": "stdout",
          "text": [
            "[[1 2 3]\n",
            " [4 5 6]\n",
            " [7 8 9]]\n",
            "[1 2 3]\n",
            "[4 5 6]\n",
            "[7 8 9]\n"
          ]
        }
      ]
    },
    {
      "cell_type": "code",
      "source": [
        "print(twod_array[:,:])\n",
        "print(twod_array[:,:2])\n",
        "print(twod_array[1:,1:])"
      ],
      "metadata": {
        "colab": {
          "base_uri": "https://localhost:8080/"
        },
        "id": "-vwjjNQwecMC",
        "outputId": "6c02901f-9d24-4982-dd09-620ffcf06530"
      },
      "execution_count": null,
      "outputs": [
        {
          "output_type": "stream",
          "name": "stdout",
          "text": [
            "[[1 2 3]\n",
            " [4 5 6]\n",
            " [7 8 9]]\n",
            "[[1 2]\n",
            " [4 5]\n",
            " [7 8]]\n",
            "[[5 6]\n",
            " [8 9]]\n"
          ]
        }
      ]
    },
    {
      "cell_type": "code",
      "source": [
        "import random\n",
        "array1 = np.random.randint(20, size = (4,3))\n",
        "print(array1)\n",
        "print(\"Dimension of the array:\",array1.ndim)\n",
        "print(\"Shape of the array:\", array1.shape)"
      ],
      "metadata": {
        "colab": {
          "base_uri": "https://localhost:8080/"
        },
        "id": "JWQK4bg3IBN8",
        "outputId": "27fa84fb-b277-4d28-a5ae-c75b67c83569"
      },
      "execution_count": null,
      "outputs": [
        {
          "output_type": "stream",
          "name": "stdout",
          "text": [
            "[[ 9 17  1]\n",
            " [16  5 11]\n",
            " [ 0 17 15]\n",
            " [19  6 16]]\n",
            "Dimension of the array: 2\n",
            "Shape of the array: (4, 3)\n"
          ]
        }
      ]
    },
    {
      "cell_type": "code",
      "source": [
        "print(array1[:])"
      ],
      "metadata": {
        "colab": {
          "base_uri": "https://localhost:8080/"
        },
        "id": "ghcIWIKeIqhR",
        "outputId": "da343673-5309-4465-bcbb-6118497f9706"
      },
      "execution_count": null,
      "outputs": [
        {
          "output_type": "stream",
          "name": "stdout",
          "text": [
            "[[ 9 17  1]\n",
            " [16  5 11]\n",
            " [ 0 17 15]\n",
            " [19  6 16]]\n"
          ]
        }
      ]
    },
    {
      "cell_type": "code",
      "source": [
        "print(array1[::])"
      ],
      "metadata": {
        "colab": {
          "base_uri": "https://localhost:8080/"
        },
        "id": "L_Yh3G2gJPQv",
        "outputId": "878822d4-5656-4810-8052-d35fad3ef94c"
      },
      "execution_count": null,
      "outputs": [
        {
          "output_type": "stream",
          "name": "stdout",
          "text": [
            "[[ 9 17  1]\n",
            " [16  5 11]\n",
            " [ 0 17 15]\n",
            " [19  6 16]]\n"
          ]
        }
      ]
    },
    {
      "cell_type": "code",
      "source": [
        "print(array1[1:])"
      ],
      "metadata": {
        "colab": {
          "base_uri": "https://localhost:8080/"
        },
        "id": "3VchM3ElJX6n",
        "outputId": "0d418cda-28e1-4070-af2f-2937bbded888"
      },
      "execution_count": null,
      "outputs": [
        {
          "output_type": "stream",
          "name": "stdout",
          "text": [
            "[[16  5 11]\n",
            " [ 0 17 15]\n",
            " [19  6 16]]\n"
          ]
        }
      ]
    },
    {
      "cell_type": "code",
      "source": [
        "print(array1[:3])"
      ],
      "metadata": {
        "colab": {
          "base_uri": "https://localhost:8080/"
        },
        "id": "lvaJYzPlJhuj",
        "outputId": "35841c42-49f5-48c4-bde7-10631060de12"
      },
      "execution_count": null,
      "outputs": [
        {
          "output_type": "stream",
          "name": "stdout",
          "text": [
            "[[ 9 17  1]\n",
            " [16  5 11]\n",
            " [ 0 17 15]]\n"
          ]
        }
      ]
    },
    {
      "cell_type": "code",
      "source": [
        "print(array1[1:3])"
      ],
      "metadata": {
        "colab": {
          "base_uri": "https://localhost:8080/"
        },
        "id": "nycL0HfFJpJ5",
        "outputId": "b2873b7f-d50d-42d0-f94d-91266e30df4a"
      },
      "execution_count": null,
      "outputs": [
        {
          "output_type": "stream",
          "name": "stdout",
          "text": [
            "[[16  5 11]\n",
            " [ 0 17 15]]\n"
          ]
        }
      ]
    },
    {
      "cell_type": "code",
      "source": [
        "print(array1[0,0])\n",
        "print(array1[0,2])\n",
        "print(array1[1,1])"
      ],
      "metadata": {
        "colab": {
          "base_uri": "https://localhost:8080/"
        },
        "id": "T9gCbnXOJvyR",
        "outputId": "c50ee29a-0e69-4b30-931f-a99c416ce88d"
      },
      "execution_count": null,
      "outputs": [
        {
          "output_type": "stream",
          "name": "stdout",
          "text": [
            "9\n",
            "1\n",
            "5\n"
          ]
        }
      ]
    },
    {
      "cell_type": "code",
      "source": [
        "print(array1[:,1:]) # including all the rows but axclusding the first column"
      ],
      "metadata": {
        "colab": {
          "base_uri": "https://localhost:8080/"
        },
        "id": "WFFVT69hKA5c",
        "outputId": "d6a9e86c-7003-4a58-8717-3890e80686ab"
      },
      "execution_count": null,
      "outputs": [
        {
          "output_type": "stream",
          "name": "stdout",
          "text": [
            "[[17  1]\n",
            " [ 5 11]\n",
            " [17 15]\n",
            " [ 6 16]]\n"
          ]
        }
      ]
    },
    {
      "cell_type": "code",
      "source": [
        "print(array1[:,:2])"
      ],
      "metadata": {
        "colab": {
          "base_uri": "https://localhost:8080/"
        },
        "id": "AqxihhcJKX4w",
        "outputId": "1727f114-f857-41d6-8d87-7d3b180c308f"
      },
      "execution_count": null,
      "outputs": [
        {
          "output_type": "stream",
          "name": "stdout",
          "text": [
            "[[ 9 17]\n",
            " [16  5]\n",
            " [ 0 17]\n",
            " [19  6]]\n"
          ]
        }
      ]
    },
    {
      "cell_type": "code",
      "source": [
        "print(\"Highest value:\",array1.max())\n",
        "print(\"Smallest Value:\",array1.min())\n",
        "print(\"Sum:\",array1.sum())"
      ],
      "metadata": {
        "colab": {
          "base_uri": "https://localhost:8080/"
        },
        "id": "b3VbmV67KePw",
        "outputId": "a13ed6cc-f358-478a-c1ac-0b1971d6def9"
      },
      "execution_count": null,
      "outputs": [
        {
          "output_type": "stream",
          "name": "stdout",
          "text": [
            "Highest value: 19\n",
            "Smallest Value: 0\n",
            "Sum: 132\n"
          ]
        }
      ]
    },
    {
      "cell_type": "code",
      "source": [
        "print(array1.max(axis = 0)) # print highest value along the axis equals to zero(vertically)"
      ],
      "metadata": {
        "colab": {
          "base_uri": "https://localhost:8080/"
        },
        "id": "2SB3PxCmKydC",
        "outputId": "54c8b176-8abc-4688-8c81-3bd623ab80c6"
      },
      "execution_count": null,
      "outputs": [
        {
          "output_type": "stream",
          "name": "stdout",
          "text": [
            "[19 17 16]\n"
          ]
        }
      ]
    },
    {
      "cell_type": "code",
      "source": [
        "print(np.ones((2,3),dtype = int)) # creating 2D Array using np.ones()"
      ],
      "metadata": {
        "colab": {
          "base_uri": "https://localhost:8080/"
        },
        "id": "QqWzKtY8McgH",
        "outputId": "2fc2e0fd-1a09-4730-9e50-f5886988894e"
      },
      "execution_count": null,
      "outputs": [
        {
          "output_type": "stream",
          "name": "stdout",
          "text": [
            "[[1 1 1]\n",
            " [1 1 1]]\n"
          ]
        }
      ]
    },
    {
      "cell_type": "code",
      "source": [
        "print(np.zeros((3,4),dtype = int))  # creating 2D Array using np.zeros()"
      ],
      "metadata": {
        "colab": {
          "base_uri": "https://localhost:8080/"
        },
        "id": "vGf7MYqwMshL",
        "outputId": "be258e12-1d08-46bb-cb6a-69b30e19d353"
      },
      "execution_count": null,
      "outputs": [
        {
          "output_type": "stream",
          "name": "stdout",
          "text": [
            "[[0 0 0 0]\n",
            " [0 0 0 0]\n",
            " [0 0 0 0]]\n"
          ]
        }
      ]
    },
    {
      "cell_type": "code",
      "source": [
        "print(np.random.rand(3,3))"
      ],
      "metadata": {
        "colab": {
          "base_uri": "https://localhost:8080/"
        },
        "id": "C2w-vBioM3IH",
        "outputId": "5ac57a47-9762-4f17-ba79-25aad557db47"
      },
      "execution_count": null,
      "outputs": [
        {
          "output_type": "stream",
          "name": "stdout",
          "text": [
            "[[0.40957293 0.09882964 0.84276736]\n",
            " [0.56357073 0.22379075 0.49763402]\n",
            " [0.5818829  0.0658579  0.669765  ]]\n"
          ]
        }
      ]
    },
    {
      "cell_type": "markdown",
      "source": [
        "1. a < 5: This part creates a Boolean mask.\n",
        "2. It checks each element of the array a to see if it is less than 5.\n",
        "3. If an element is less than 5, it assigns True, otherwise False.\n",
        "4. This results in a new array of the same shape as a with True and False values indicating which elements meet the condition:\n",
        "5. a[a < 5]: Now, we use this Boolean mask as an index to select elements from the original array a.\n",
        "6. It picks only the elements from a where the corresponding value in the Boolean mask is True.\n",
        "7. In our case, it selects the elements [1, 2, 3, 4] because those are the elements in a where the condition a < 5 is True."
      ],
      "metadata": {
        "id": "j7Er0mVDBDZE"
      }
    },
    {
      "cell_type": "code",
      "source": [
        "a = np.array([x for x in range(11)])\n",
        "print(a)\n",
        "print(a[a < 5])\n",
        "print(a[a>=5])\n",
        "divisibleby_2 = a % 2 == 0\n",
        "print(divisibleby_2)\n",
        "print(a[divisibleby_2])"
      ],
      "metadata": {
        "colab": {
          "base_uri": "https://localhost:8080/"
        },
        "id": "c_HQqCP_vdQf",
        "outputId": "7084e616-453d-423d-8185-94a82ee60ed4"
      },
      "execution_count": null,
      "outputs": [
        {
          "output_type": "stream",
          "name": "stdout",
          "text": [
            "[ 0  1  2  3  4  5  6  7  8  9 10]\n",
            "[0 1 2 3 4]\n",
            "[ 5  6  7  8  9 10]\n",
            "[ True False  True False  True False  True False  True False  True]\n",
            "[ 0  2  4  6  8 10]\n"
          ]
        }
      ]
    },
    {
      "cell_type": "markdown",
      "source": [
        "1. When we do vertical stack column size must be same, row size can be vary.\n",
        "2. when we do horizontal stack row size must be equal, column size can vary.\n"
      ],
      "metadata": {
        "id": "rdz6Q-j_i4sJ"
      }
    },
    {
      "cell_type": "code",
      "source": [
        "import random\n",
        "x = np.random.randint(5,size = (2,3))\n",
        "print(x)\n",
        "print(\"-----------------------------\")\n",
        "y = np.random.randint(5,size = (5,3))\n",
        "print(y)\n",
        "print(\"------------------------------\")\n",
        "z = np.vstack((x,y))\n",
        "print(z)"
      ],
      "metadata": {
        "id": "YDmfXHLJ9zZh",
        "colab": {
          "base_uri": "https://localhost:8080/"
        },
        "outputId": "75619535-cde3-46bc-9d86-f3c8778debe9"
      },
      "execution_count": null,
      "outputs": [
        {
          "output_type": "stream",
          "name": "stdout",
          "text": [
            "[[2 4 4]\n",
            " [3 3 4]]\n",
            "-----------------------------\n",
            "[[3 4 2]\n",
            " [1 1 0]\n",
            " [2 4 0]\n",
            " [1 4 0]\n",
            " [4 2 2]]\n",
            "------------------------------\n",
            "[[2 4 4]\n",
            " [3 3 4]\n",
            " [3 4 2]\n",
            " [1 1 0]\n",
            " [2 4 0]\n",
            " [1 4 0]\n",
            " [4 2 2]]\n"
          ]
        }
      ]
    },
    {
      "cell_type": "markdown",
      "source": [
        "Showing an error messgae(ValueError) because columns size of both arrays are different. column size must be equal when we do vstack."
      ],
      "metadata": {
        "id": "DBJTMosdkwMp"
      }
    },
    {
      "cell_type": "code",
      "source": [
        "a = np.random.randint(10,size = (5,3))\n",
        "print(a)\n",
        "print(\"-------------------------\")\n",
        "b = np.random.randint(6, size = (3,4))\n",
        "print(b)\n",
        "print(\"-------------------------\")\n",
        "\n",
        "c = np.vstack((a,b))\n",
        "print(c)"
      ],
      "metadata": {
        "colab": {
          "base_uri": "https://localhost:8080/",
          "height": 477
        },
        "id": "NEYkNDQgfI1o",
        "outputId": "3b339314-294c-49cb-cdac-111eff5e0322"
      },
      "execution_count": null,
      "outputs": [
        {
          "output_type": "stream",
          "name": "stdout",
          "text": [
            "[[6 7 9]\n",
            " [6 7 3]\n",
            " [8 9 2]\n",
            " [4 3 4]\n",
            " [8 2 1]]\n",
            "-------------------------\n",
            "[[0 1 5 0]\n",
            " [5 4 0 2]\n",
            " [4 3 0 2]]\n",
            "-------------------------\n"
          ]
        },
        {
          "output_type": "error",
          "ename": "ValueError",
          "evalue": "ignored",
          "traceback": [
            "\u001b[0;31m---------------------------------------------------------------------------\u001b[0m",
            "\u001b[0;31mValueError\u001b[0m                                Traceback (most recent call last)",
            "\u001b[0;32m<ipython-input-43-201f83489ee3>\u001b[0m in \u001b[0;36m<cell line: 8>\u001b[0;34m()\u001b[0m\n\u001b[1;32m      6\u001b[0m \u001b[0mprint\u001b[0m\u001b[0;34m(\u001b[0m\u001b[0;34m\"-------------------------\"\u001b[0m\u001b[0;34m)\u001b[0m\u001b[0;34m\u001b[0m\u001b[0;34m\u001b[0m\u001b[0m\n\u001b[1;32m      7\u001b[0m \u001b[0;34m\u001b[0m\u001b[0m\n\u001b[0;32m----> 8\u001b[0;31m \u001b[0mc\u001b[0m \u001b[0;34m=\u001b[0m \u001b[0mnp\u001b[0m\u001b[0;34m.\u001b[0m\u001b[0mvstack\u001b[0m\u001b[0;34m(\u001b[0m\u001b[0;34m(\u001b[0m\u001b[0ma\u001b[0m\u001b[0;34m,\u001b[0m\u001b[0mb\u001b[0m\u001b[0;34m)\u001b[0m\u001b[0;34m)\u001b[0m\u001b[0;34m\u001b[0m\u001b[0;34m\u001b[0m\u001b[0m\n\u001b[0m\u001b[1;32m      9\u001b[0m \u001b[0mprint\u001b[0m\u001b[0;34m(\u001b[0m\u001b[0mc\u001b[0m\u001b[0;34m)\u001b[0m\u001b[0;34m\u001b[0m\u001b[0;34m\u001b[0m\u001b[0m\n",
            "\u001b[0;32m/usr/local/lib/python3.10/dist-packages/numpy/core/overrides.py\u001b[0m in \u001b[0;36mvstack\u001b[0;34m(*args, **kwargs)\u001b[0m\n",
            "\u001b[0;32m/usr/local/lib/python3.10/dist-packages/numpy/core/shape_base.py\u001b[0m in \u001b[0;36mvstack\u001b[0;34m(tup)\u001b[0m\n\u001b[1;32m    280\u001b[0m     \u001b[0;32mif\u001b[0m \u001b[0;32mnot\u001b[0m \u001b[0misinstance\u001b[0m\u001b[0;34m(\u001b[0m\u001b[0marrs\u001b[0m\u001b[0;34m,\u001b[0m \u001b[0mlist\u001b[0m\u001b[0;34m)\u001b[0m\u001b[0;34m:\u001b[0m\u001b[0;34m\u001b[0m\u001b[0;34m\u001b[0m\u001b[0m\n\u001b[1;32m    281\u001b[0m         \u001b[0marrs\u001b[0m \u001b[0;34m=\u001b[0m \u001b[0;34m[\u001b[0m\u001b[0marrs\u001b[0m\u001b[0;34m]\u001b[0m\u001b[0;34m\u001b[0m\u001b[0;34m\u001b[0m\u001b[0m\n\u001b[0;32m--> 282\u001b[0;31m     \u001b[0;32mreturn\u001b[0m \u001b[0m_nx\u001b[0m\u001b[0;34m.\u001b[0m\u001b[0mconcatenate\u001b[0m\u001b[0;34m(\u001b[0m\u001b[0marrs\u001b[0m\u001b[0;34m,\u001b[0m \u001b[0;36m0\u001b[0m\u001b[0;34m)\u001b[0m\u001b[0;34m\u001b[0m\u001b[0;34m\u001b[0m\u001b[0m\n\u001b[0m\u001b[1;32m    283\u001b[0m \u001b[0;34m\u001b[0m\u001b[0m\n\u001b[1;32m    284\u001b[0m \u001b[0;34m\u001b[0m\u001b[0m\n",
            "\u001b[0;32m/usr/local/lib/python3.10/dist-packages/numpy/core/overrides.py\u001b[0m in \u001b[0;36mconcatenate\u001b[0;34m(*args, **kwargs)\u001b[0m\n",
            "\u001b[0;31mValueError\u001b[0m: all the input array dimensions for the concatenation axis must match exactly, but along dimension 1, the array at index 0 has size 3 and the array at index 1 has size 4"
          ]
        }
      ]
    },
    {
      "cell_type": "code",
      "source": [
        "x = np.random.randint(10, size = (5,3))\n",
        "print(x)\n",
        "print(\"-----------------------------\")\n",
        "y = np.random.randint(7, size = (5,4))\n",
        "print(y)\n",
        "print(\"-----------------------------\")\n",
        "\n",
        "z = np.hstack((x,y))\n",
        "print(z)"
      ],
      "metadata": {
        "colab": {
          "base_uri": "https://localhost:8080/"
        },
        "id": "BSJDLSYBg0Ge",
        "outputId": "9cb76577-1ea1-4b1c-9117-66389476a3c0"
      },
      "execution_count": null,
      "outputs": [
        {
          "output_type": "stream",
          "name": "stdout",
          "text": [
            "[[9 7 6]\n",
            " [5 6 9]\n",
            " [2 4 2]\n",
            " [2 4 8]\n",
            " [6 5 2]]\n",
            "-----------------------------\n",
            "[[0 4 3 5]\n",
            " [3 3 4 2]\n",
            " [1 2 4 5]\n",
            " [0 3 1 4]\n",
            " [6 5 5 0]]\n",
            "-----------------------------\n",
            "[[9 7 6 0 4 3 5]\n",
            " [5 6 9 3 3 4 2]\n",
            " [2 4 2 1 2 4 5]\n",
            " [2 4 8 0 3 1 4]\n",
            " [6 5 2 6 5 5 0]]\n"
          ]
        }
      ]
    },
    {
      "cell_type": "markdown",
      "source": [
        "Showing an error messgae(ValueError) because row size of both arrays are different. row size must be equal when we do hstack."
      ],
      "metadata": {
        "id": "JLraJiNulFzk"
      }
    },
    {
      "cell_type": "code",
      "source": [
        "x = np.random.randint(10, size = (5,3))\n",
        "print(x)\n",
        "print(\"-----------------------------\")\n",
        "y = np.random.randint(7, size = (2,4))\n",
        "print(y)\n",
        "print(\"-----------------------------\")\n",
        "\n",
        "z = np.hstack((x,y))\n",
        "print(z)"
      ],
      "metadata": {
        "colab": {
          "base_uri": "https://localhost:8080/",
          "height": 460
        },
        "id": "SPsY3pITjn9w",
        "outputId": "f72e67c6-d656-4b07-decc-7ffa30da6583"
      },
      "execution_count": null,
      "outputs": [
        {
          "output_type": "stream",
          "name": "stdout",
          "text": [
            "[[6 1 6]\n",
            " [9 6 4]\n",
            " [6 2 3]\n",
            " [2 6 4]\n",
            " [8 0 6]]\n",
            "-----------------------------\n",
            "[[4 1 5 4]\n",
            " [6 2 4 0]]\n",
            "-----------------------------\n"
          ]
        },
        {
          "output_type": "error",
          "ename": "ValueError",
          "evalue": "ignored",
          "traceback": [
            "\u001b[0;31m---------------------------------------------------------------------------\u001b[0m",
            "\u001b[0;31mValueError\u001b[0m                                Traceback (most recent call last)",
            "\u001b[0;32m<ipython-input-45-5429d04b2b2b>\u001b[0m in \u001b[0;36m<cell line: 8>\u001b[0;34m()\u001b[0m\n\u001b[1;32m      6\u001b[0m \u001b[0mprint\u001b[0m\u001b[0;34m(\u001b[0m\u001b[0;34m\"-----------------------------\"\u001b[0m\u001b[0;34m)\u001b[0m\u001b[0;34m\u001b[0m\u001b[0;34m\u001b[0m\u001b[0m\n\u001b[1;32m      7\u001b[0m \u001b[0;34m\u001b[0m\u001b[0m\n\u001b[0;32m----> 8\u001b[0;31m \u001b[0mz\u001b[0m \u001b[0;34m=\u001b[0m \u001b[0mnp\u001b[0m\u001b[0;34m.\u001b[0m\u001b[0mhstack\u001b[0m\u001b[0;34m(\u001b[0m\u001b[0;34m(\u001b[0m\u001b[0mx\u001b[0m\u001b[0;34m,\u001b[0m\u001b[0my\u001b[0m\u001b[0;34m)\u001b[0m\u001b[0;34m)\u001b[0m\u001b[0;34m\u001b[0m\u001b[0;34m\u001b[0m\u001b[0m\n\u001b[0m\u001b[1;32m      9\u001b[0m \u001b[0mprint\u001b[0m\u001b[0;34m(\u001b[0m\u001b[0mz\u001b[0m\u001b[0;34m)\u001b[0m\u001b[0;34m\u001b[0m\u001b[0;34m\u001b[0m\u001b[0m\n",
            "\u001b[0;32m/usr/local/lib/python3.10/dist-packages/numpy/core/overrides.py\u001b[0m in \u001b[0;36mhstack\u001b[0;34m(*args, **kwargs)\u001b[0m\n",
            "\u001b[0;32m/usr/local/lib/python3.10/dist-packages/numpy/core/shape_base.py\u001b[0m in \u001b[0;36mhstack\u001b[0;34m(tup)\u001b[0m\n\u001b[1;32m    343\u001b[0m         \u001b[0;32mreturn\u001b[0m \u001b[0m_nx\u001b[0m\u001b[0;34m.\u001b[0m\u001b[0mconcatenate\u001b[0m\u001b[0;34m(\u001b[0m\u001b[0marrs\u001b[0m\u001b[0;34m,\u001b[0m \u001b[0;36m0\u001b[0m\u001b[0;34m)\u001b[0m\u001b[0;34m\u001b[0m\u001b[0;34m\u001b[0m\u001b[0m\n\u001b[1;32m    344\u001b[0m     \u001b[0;32melse\u001b[0m\u001b[0;34m:\u001b[0m\u001b[0;34m\u001b[0m\u001b[0;34m\u001b[0m\u001b[0m\n\u001b[0;32m--> 345\u001b[0;31m         \u001b[0;32mreturn\u001b[0m \u001b[0m_nx\u001b[0m\u001b[0;34m.\u001b[0m\u001b[0mconcatenate\u001b[0m\u001b[0;34m(\u001b[0m\u001b[0marrs\u001b[0m\u001b[0;34m,\u001b[0m \u001b[0;36m1\u001b[0m\u001b[0;34m)\u001b[0m\u001b[0;34m\u001b[0m\u001b[0;34m\u001b[0m\u001b[0m\n\u001b[0m\u001b[1;32m    346\u001b[0m \u001b[0;34m\u001b[0m\u001b[0m\n\u001b[1;32m    347\u001b[0m \u001b[0;34m\u001b[0m\u001b[0m\n",
            "\u001b[0;32m/usr/local/lib/python3.10/dist-packages/numpy/core/overrides.py\u001b[0m in \u001b[0;36mconcatenate\u001b[0;34m(*args, **kwargs)\u001b[0m\n",
            "\u001b[0;31mValueError\u001b[0m: all the input array dimensions for the concatenation axis must match exactly, but along dimension 0, the array at index 0 has size 5 and the array at index 1 has size 2"
          ]
        }
      ]
    },
    {
      "cell_type": "markdown",
      "source": [
        "# Array operations"
      ],
      "metadata": {
        "id": "a3XuA_LZnFCr"
      }
    },
    {
      "cell_type": "code",
      "source": [
        "x = np.random.randint(10, size = (3))\n",
        "print(x)\n",
        "print(\"--------------\")\n",
        "\n",
        "y = np.random.randint(20,size = (3))\n",
        "print(y)\n",
        "print(\"--------------\")\n",
        "\n",
        "sum = x + y\n",
        "print(sum)"
      ],
      "metadata": {
        "colab": {
          "base_uri": "https://localhost:8080/"
        },
        "id": "D69UpXZslJTw",
        "outputId": "a2bbd147-c635-4014-a4e2-95a8d5413c44"
      },
      "execution_count": null,
      "outputs": [
        {
          "output_type": "stream",
          "name": "stdout",
          "text": [
            "[6 9 0]\n",
            "--------------\n",
            "[ 6  9 16]\n",
            "--------------\n",
            "[12 18 16]\n"
          ]
        }
      ]
    },
    {
      "cell_type": "code",
      "source": [
        "x = np.random.randint(10, size = (3,3))\n",
        "print(x)\n",
        "print(\"--------------\")\n",
        "\n",
        "y = np.random.randint(30,size = (3,3))\n",
        "print(y)\n",
        "print(\"----------------\")\n",
        "\n",
        "print(x + y)"
      ],
      "metadata": {
        "colab": {
          "base_uri": "https://localhost:8080/"
        },
        "id": "u01T02ODnToN",
        "outputId": "57a4fb4b-5b99-4392-e7ce-fea6b1c5c3df"
      },
      "execution_count": null,
      "outputs": [
        {
          "output_type": "stream",
          "name": "stdout",
          "text": [
            "[[3 0 4]\n",
            " [7 8 5]\n",
            " [7 4 3]]\n",
            "--------------\n",
            "[[21 24  3]\n",
            " [ 8  4 24]\n",
            " [11 25 29]]\n",
            "----------------\n",
            "[[24 24  7]\n",
            " [15 12 29]\n",
            " [18 29 32]]\n"
          ]
        }
      ]
    },
    {
      "cell_type": "code",
      "source": [
        "x = np.random.randint(10, size = (3))\n",
        "print(x)\n",
        "print(\"--------------\")\n",
        "\n",
        "y = np.random.randint(20,size = (3))\n",
        "print(y)\n",
        "print(\"--------------\")\n",
        "\n",
        "sub = x - y\n",
        "print(sub)"
      ],
      "metadata": {
        "colab": {
          "base_uri": "https://localhost:8080/"
        },
        "id": "sgpERWwsp_6P",
        "outputId": "3b62fd17-7fef-4b2e-c881-3507737ed409"
      },
      "execution_count": null,
      "outputs": [
        {
          "output_type": "stream",
          "name": "stdout",
          "text": [
            "[6 8 2]\n",
            "--------------\n",
            "[15 14  1]\n",
            "--------------\n",
            "[-9 -6  1]\n"
          ]
        }
      ]
    },
    {
      "cell_type": "code",
      "source": [
        "x = np.random.randint(10, size = (3,3))\n",
        "print(x)\n",
        "print(\"--------------\")\n",
        "\n",
        "y = np.random.randint(30,size = (3,3))\n",
        "print(y)\n",
        "print(\"----------------\")\n",
        "\n",
        "print(x - y)"
      ],
      "metadata": {
        "colab": {
          "base_uri": "https://localhost:8080/"
        },
        "id": "oqMqDA1-qJA0",
        "outputId": "e21f77c9-dfbf-4803-9ab9-beeb496318d3"
      },
      "execution_count": null,
      "outputs": [
        {
          "output_type": "stream",
          "name": "stdout",
          "text": [
            "[[7 8 6]\n",
            " [8 5 0]\n",
            " [2 6 2]]\n",
            "--------------\n",
            "[[10 17 18]\n",
            " [ 0 14 13]\n",
            " [ 3  8  2]]\n",
            "----------------\n",
            "[[ -3  -9 -12]\n",
            " [  8  -9 -13]\n",
            " [ -1  -2   0]]\n"
          ]
        }
      ]
    },
    {
      "cell_type": "code",
      "source": [
        "x = np.random.randint(10, size = (3))\n",
        "print(x)\n",
        "print(\"--------------\")\n",
        "\n",
        "y = np.random.randint(20,size = (3))\n",
        "print(y)\n",
        "print(\"--------------\")\n",
        "\n",
        "mul = x * y\n",
        "print(mul)"
      ],
      "metadata": {
        "colab": {
          "base_uri": "https://localhost:8080/"
        },
        "id": "iNecoS7nqQFE",
        "outputId": "d52e3ca2-55d7-4537-c0d4-2123243082d8"
      },
      "execution_count": null,
      "outputs": [
        {
          "output_type": "stream",
          "name": "stdout",
          "text": [
            "[9 7 4]\n",
            "--------------\n",
            "[16 17 17]\n",
            "--------------\n",
            "[144 119  68]\n"
          ]
        }
      ]
    },
    {
      "cell_type": "code",
      "source": [
        "x = np.random.randint(10, size = (3,3))\n",
        "print(x)\n",
        "print(\"--------------\")\n",
        "\n",
        "y = np.random.randint(30,size = (3,3))\n",
        "print(y)\n",
        "print(\"----------------\")\n",
        "\n",
        "print(x * y)"
      ],
      "metadata": {
        "colab": {
          "base_uri": "https://localhost:8080/"
        },
        "id": "WvkkmNu4qZ4T",
        "outputId": "f0eeabe5-caad-4293-86db-6d5610543910"
      },
      "execution_count": null,
      "outputs": [
        {
          "output_type": "stream",
          "name": "stdout",
          "text": [
            "[[7 9 1]\n",
            " [8 9 5]\n",
            " [3 5 9]]\n",
            "--------------\n",
            "[[ 4 28 16]\n",
            " [25 11 14]\n",
            " [11  8 17]]\n",
            "----------------\n",
            "[[ 28 252  16]\n",
            " [200  99  70]\n",
            " [ 33  40 153]]\n"
          ]
        }
      ]
    },
    {
      "cell_type": "code",
      "source": [
        "x = np.random.randint(10, size = (3))\n",
        "print(x)\n",
        "print(\"--------------\")\n",
        "\n",
        "y = np.random.randint(20,size = (3))\n",
        "print(y)\n",
        "print(\"--------------\")\n",
        "\n",
        "div = x / y\n",
        "print(div)"
      ],
      "metadata": {
        "colab": {
          "base_uri": "https://localhost:8080/"
        },
        "id": "yzXKc5chquVZ",
        "outputId": "e60de46b-70cb-47b7-c3c3-28ac4b64ca19"
      },
      "execution_count": null,
      "outputs": [
        {
          "output_type": "stream",
          "name": "stdout",
          "text": [
            "[2 0 6]\n",
            "--------------\n",
            "[10 16  8]\n",
            "--------------\n",
            "[0.2  0.   0.75]\n"
          ]
        }
      ]
    },
    {
      "cell_type": "code",
      "source": [
        "x = np.random.randint(10, size = (3,3))\n",
        "print(x)\n",
        "print(\"--------------\")\n",
        "\n",
        "y = np.random.randint(30,size = (3,3))\n",
        "print(y)\n",
        "print(\"----------------\")\n",
        "\n",
        "print(x / y)"
      ],
      "metadata": {
        "colab": {
          "base_uri": "https://localhost:8080/"
        },
        "id": "DsYOBZUKrBRT",
        "outputId": "9111ca56-911b-428c-9c64-1b70d8f2cd45"
      },
      "execution_count": null,
      "outputs": [
        {
          "output_type": "stream",
          "name": "stdout",
          "text": [
            "[[2 0 4]\n",
            " [2 1 9]\n",
            " [1 0 9]]\n",
            "--------------\n",
            "[[ 4  4 16]\n",
            " [29 23  6]\n",
            " [ 6 29 23]]\n",
            "----------------\n",
            "[[0.5        0.         0.25      ]\n",
            " [0.06896552 0.04347826 1.5       ]\n",
            " [0.16666667 0.         0.39130435]]\n"
          ]
        }
      ]
    },
    {
      "cell_type": "code",
      "source": [
        "x = np.random.randint(10, size = (4))\n",
        "print(x)\n",
        "print(f\"Sum of the elements in the array  is {x.sum()}\")"
      ],
      "metadata": {
        "colab": {
          "base_uri": "https://localhost:8080/"
        },
        "id": "f3XbNCe7rcRD",
        "outputId": "6ae9ad64-0a6b-40c1-f0a5-d9fc048a6ef0"
      },
      "execution_count": null,
      "outputs": [
        {
          "output_type": "stream",
          "name": "stdout",
          "text": [
            "[9 8 2 9]\n",
            "Sum of the elements in the array  is 28\n"
          ]
        }
      ]
    },
    {
      "cell_type": "code",
      "source": [
        "y = np.random.randint(10,size = (3,4))\n",
        "print(y)\n",
        "print(f'Sum of the elements in the array is {y.sum()}')"
      ],
      "metadata": {
        "colab": {
          "base_uri": "https://localhost:8080/"
        },
        "id": "NHnogq_NvvSx",
        "outputId": "9d3c042e-7d02-42fa-8696-514ceaff06f6"
      },
      "execution_count": null,
      "outputs": [
        {
          "output_type": "stream",
          "name": "stdout",
          "text": [
            "[[3 1 6 2]\n",
            " [2 3 5 9]\n",
            " [1 1 4 7]]\n",
            "Sum of the elements in the array is 44\n"
          ]
        }
      ]
    },
    {
      "cell_type": "markdown",
      "source": [
        "To add the rows or the columns in a 2D array, you would specify the axis."
      ],
      "metadata": {
        "id": "5pXd_gXEwwuU"
      }
    },
    {
      "cell_type": "code",
      "source": [
        "# sum over the axis of rows with:\n",
        "y = np.random.randint(10,size = (3,4))\n",
        "print(y)\n",
        "print(f'Sum of the elements in the array is {y.sum(axis = 0)}')"
      ],
      "metadata": {
        "colab": {
          "base_uri": "https://localhost:8080/"
        },
        "id": "SfGoU2PHv_MW",
        "outputId": "6888621e-8fa7-4090-c91f-1fc3512932ae"
      },
      "execution_count": null,
      "outputs": [
        {
          "output_type": "stream",
          "name": "stdout",
          "text": [
            "[[5 3 8 1]\n",
            " [7 7 3 3]\n",
            " [5 8 9 1]]\n",
            "Sum of the elements in the array is [17 18 20  5]\n"
          ]
        }
      ]
    },
    {
      "cell_type": "code",
      "source": [
        "# sum over the axis of columns with:\n",
        "y = np.random.randint(10,size = (3,4))\n",
        "print(y)\n",
        "print(f'Sum of the elements in the array is {y.sum(axis = 1)}')"
      ],
      "metadata": {
        "colab": {
          "base_uri": "https://localhost:8080/"
        },
        "id": "wibXRBsfwawU",
        "outputId": "16a23537-73e5-4153-f446-5eb8b8394896"
      },
      "execution_count": null,
      "outputs": [
        {
          "output_type": "stream",
          "name": "stdout",
          "text": [
            "[[5 5 1 0]\n",
            " [0 9 8 2]\n",
            " [4 9 7 7]]\n",
            "Sum of the elements in the array is [11 19 27]\n"
          ]
        }
      ]
    },
    {
      "cell_type": "code",
      "source": [
        "# min() and max()\n",
        "\n",
        "x = np.random.randint(20, size = (5))\n",
        "print(x)\n",
        "print(x.min())\n",
        "print(x.max())\n",
        "print(x.sum())"
      ],
      "metadata": {
        "colab": {
          "base_uri": "https://localhost:8080/"
        },
        "id": "F57i1TwWw-H6",
        "outputId": "9ee31509-4c4e-4e8d-ca4b-d94b308c11d5"
      },
      "execution_count": null,
      "outputs": [
        {
          "output_type": "stream",
          "name": "stdout",
          "text": [
            "[ 2 13 18  0 15]\n",
            "0\n",
            "18\n",
            "48\n"
          ]
        }
      ]
    },
    {
      "cell_type": "code",
      "source": [
        "x = np.random.randint(20, size = (5,3))\n",
        "print(x)\n"
      ],
      "metadata": {
        "colab": {
          "base_uri": "https://localhost:8080/"
        },
        "id": "0aWHH15AEFgY",
        "outputId": "09f2e886-b4c3-45df-a343-1a9e12be00a4"
      },
      "execution_count": null,
      "outputs": [
        {
          "output_type": "stream",
          "name": "stdout",
          "text": [
            "[[ 1 13  2]\n",
            " [14 14 17]\n",
            " [ 0 18  8]\n",
            " [13  0 10]\n",
            " [10 18 17]]\n"
          ]
        }
      ]
    },
    {
      "cell_type": "code",
      "source": [
        "print(x.min()) # print the lowest value in the entire array\n",
        "print(x.max()) # print the highest value in the entire array\n",
        "print(x.sum()) # print the sum of each element in the array"
      ],
      "metadata": {
        "colab": {
          "base_uri": "https://localhost:8080/"
        },
        "id": "yivu3l1nETPH",
        "outputId": "51edf276-7e29-41a1-9f04-4fab41820f2f"
      },
      "execution_count": null,
      "outputs": [
        {
          "output_type": "stream",
          "name": "stdout",
          "text": [
            "0\n",
            "18\n",
            "155\n"
          ]
        }
      ]
    },
    {
      "cell_type": "code",
      "source": [
        "print(x.min(axis = 0)) # print the lowest value in each column/ vertical\n",
        "print(x.max(axis = 0)) # print the highest value in each column/ vertical\n",
        "print(x.sum(axis = 0))"
      ],
      "metadata": {
        "colab": {
          "base_uri": "https://localhost:8080/"
        },
        "id": "AGjs--YpEWiB",
        "outputId": "517e429a-d47d-44d2-9596-a5ecc4a6d8b9"
      },
      "execution_count": null,
      "outputs": [
        {
          "output_type": "stream",
          "name": "stdout",
          "text": [
            "[0 0 2]\n",
            "[14 18 17]\n",
            "[38 63 54]\n"
          ]
        }
      ]
    },
    {
      "cell_type": "code",
      "source": [
        "print(x.min(axis = 1)) # print the lowest value in each row/ horizontal\n",
        "print(x.max(axis = 1)) # print the highest value in each row/ horizontal\n",
        "print(x.sum(axis = 1))"
      ],
      "metadata": {
        "colab": {
          "base_uri": "https://localhost:8080/"
        },
        "id": "Wm2_gzcpEwRB",
        "outputId": "1d432e40-6bd9-486f-ff73-69723feb7173"
      },
      "execution_count": null,
      "outputs": [
        {
          "output_type": "stream",
          "name": "stdout",
          "text": [
            "[ 1 14  0  0 10]\n",
            "[13 17 18 13 18]\n",
            "[16 45 26 23 45]\n"
          ]
        }
      ]
    },
    {
      "cell_type": "markdown",
      "source": [
        "#Creating matrices"
      ],
      "metadata": {
        "id": "pCnQsVtbalSb"
      }
    },
    {
      "cell_type": "code",
      "source": [
        "import random\n",
        "array_1 = np.random.rand(3,3)\n",
        "print(array_1)"
      ],
      "metadata": {
        "id": "C_AGgu3gFVDq",
        "colab": {
          "base_uri": "https://localhost:8080/"
        },
        "outputId": "08b8f4cc-81e2-4edc-b6be-9874d7aa528d"
      },
      "execution_count": 24,
      "outputs": [
        {
          "output_type": "stream",
          "name": "stdout",
          "text": [
            "[[0.69377437 0.20348443 0.70137844]\n",
            " [0.74392867 0.9973091  0.9795146 ]\n",
            " [0.21849403 0.74675434 0.9892934 ]]\n"
          ]
        }
      ]
    },
    {
      "cell_type": "markdown",
      "source": [
        " # Broadcasting\n",
        " Broadcasting is a mechanism that allows NumPy to perform operations on arrays of different shapes. The dimensions of your array must be compatible, for example, when the dimensions of both arrays are equal or when one of them is 1. If the dimensions are not compatible, you will get a ValueError.\n",
        "\n",
        "# General Broadcasting Rules\n",
        "When operating on two arrays, NumPy compares their shapes element-wise. It starts with the trailing (i.e. rightmost) dimension and works its way left. Two dimensions are compatible when\n",
        "1. they are equal, or\n",
        "2. one of them is 1."
      ],
      "metadata": {
        "id": "hiBmmN-rt6Mt"
      }
    },
    {
      "cell_type": "code",
      "source": [
        "data = np.array([1,2,3,4])\n",
        "b = 5\n",
        "c = data * b\n",
        "print(c)"
      ],
      "metadata": {
        "colab": {
          "base_uri": "https://localhost:8080/"
        },
        "id": "kN6WbKiUqo0D",
        "outputId": "f2938db1-6110-44fa-956a-7daa56662547"
      },
      "execution_count": 25,
      "outputs": [
        {
          "output_type": "stream",
          "name": "stdout",
          "text": [
            "[ 5 10 15 20]\n"
          ]
        }
      ]
    },
    {
      "cell_type": "code",
      "source": [
        "data1 = np.random.randint(10, size = (3,1))\n",
        "print(data1)\n",
        "\n",
        "data2 = np.random.randint(20,size = (3,3))\n",
        "print(data2)\n",
        "print(data1 * data2)\n"
      ],
      "metadata": {
        "colab": {
          "base_uri": "https://localhost:8080/"
        },
        "id": "1t6NUYTx0l5Q",
        "outputId": "4c70b4b2-daf6-466e-af90-accecd1e7397"
      },
      "execution_count": 32,
      "outputs": [
        {
          "output_type": "stream",
          "name": "stdout",
          "text": [
            "[[1]\n",
            " [2]\n",
            " [5]]\n",
            "[[ 0 15 11]\n",
            " [ 8 16 10]\n",
            " [17  8  1]]\n",
            "[[ 0 15 11]\n",
            " [16 32 20]\n",
            " [85 40  5]]\n"
          ]
        }
      ]
    },
    {
      "cell_type": "code",
      "source": [
        "arr1 = np.random.randint(10, size = (4))\n",
        "print(arr1)\n",
        "print(\"---------------------------------\")\n",
        "arr2 = np.random.randint(20,size = (3,4))\n",
        "print(arr2)\n",
        "print(\"---------------------------------\")\n",
        "print(arr1 + arr2)"
      ],
      "metadata": {
        "colab": {
          "base_uri": "https://localhost:8080/"
        },
        "id": "-DLu6QP_1uKc",
        "outputId": "e3ebb893-c279-4a40-bbd8-dcd3f70ff105"
      },
      "execution_count": 36,
      "outputs": [
        {
          "output_type": "stream",
          "name": "stdout",
          "text": [
            "[0 4 7 6]\n",
            "---------------------------------\n",
            "[[ 5  0  9  1]\n",
            " [18 12 15  2]\n",
            " [14  2  7 11]]\n",
            "---------------------------------\n",
            "[[ 5  4 16  7]\n",
            " [18 16 22  8]\n",
            " [14  6 14 17]]\n"
          ]
        }
      ]
    },
    {
      "cell_type": "code",
      "source": [
        "arr1 = np.random.randint(10, size = (3,4))\n",
        "print(arr1)\n",
        "print(\"---------------------------------\")\n",
        "arr2 = np.random.randint(20,size = (3,4))\n",
        "print(arr2)\n",
        "print(\"---------------------------------\")\n",
        "print(arr1 * arr2)"
      ],
      "metadata": {
        "colab": {
          "base_uri": "https://localhost:8080/"
        },
        "id": "RE48G7kF3eNi",
        "outputId": "2a96ec34-33b8-4da8-e375-90420ce09ed5"
      },
      "execution_count": 38,
      "outputs": [
        {
          "output_type": "stream",
          "name": "stdout",
          "text": [
            "[[8 9 7 8]\n",
            " [3 3 2 0]\n",
            " [6 5 2 5]]\n",
            "---------------------------------\n",
            "[[18  7 16  2]\n",
            " [ 1 10 16  0]\n",
            " [17 18  4  6]]\n",
            "---------------------------------\n",
            "[[144  63 112  16]\n",
            " [  3  30  32   0]\n",
            " [102  90   8  30]]\n"
          ]
        }
      ]
    },
    {
      "cell_type": "code",
      "source": [
        "arr1 = np.random.randint(10, size = (5))\n",
        "print(arr1)\n",
        "print(\"---------------------------------\")\n",
        "arr2 = np.random.randint(20,size = (3,4))\n",
        "print(arr2)\n",
        "print(\"---------------------------------\")\n",
        "print(arr1 + arr2)"
      ],
      "metadata": {
        "colab": {
          "base_uri": "https://localhost:8080/",
          "height": 314
        },
        "id": "5rfI9ZkN22eF",
        "outputId": "2fce0a6f-98c9-4536-b392-b02b63d034f5"
      },
      "execution_count": 37,
      "outputs": [
        {
          "output_type": "stream",
          "name": "stdout",
          "text": [
            "[5 1 8 6 6]\n",
            "---------------------------------\n",
            "[[15  3 10 11]\n",
            " [ 1  3  3  3]\n",
            " [13  1  2 14]]\n",
            "---------------------------------\n"
          ]
        },
        {
          "output_type": "error",
          "ename": "ValueError",
          "evalue": "ignored",
          "traceback": [
            "\u001b[0;31m---------------------------------------------------------------------------\u001b[0m",
            "\u001b[0;31mValueError\u001b[0m                                Traceback (most recent call last)",
            "\u001b[0;32m<ipython-input-37-6e302a50c0e4>\u001b[0m in \u001b[0;36m<cell line: 7>\u001b[0;34m()\u001b[0m\n\u001b[1;32m      5\u001b[0m \u001b[0mprint\u001b[0m\u001b[0;34m(\u001b[0m\u001b[0marr2\u001b[0m\u001b[0;34m)\u001b[0m\u001b[0;34m\u001b[0m\u001b[0;34m\u001b[0m\u001b[0m\n\u001b[1;32m      6\u001b[0m \u001b[0mprint\u001b[0m\u001b[0;34m(\u001b[0m\u001b[0;34m\"---------------------------------\"\u001b[0m\u001b[0;34m)\u001b[0m\u001b[0;34m\u001b[0m\u001b[0;34m\u001b[0m\u001b[0m\n\u001b[0;32m----> 7\u001b[0;31m \u001b[0mprint\u001b[0m\u001b[0;34m(\u001b[0m\u001b[0marr1\u001b[0m \u001b[0;34m+\u001b[0m \u001b[0marr2\u001b[0m\u001b[0;34m)\u001b[0m\u001b[0;34m\u001b[0m\u001b[0;34m\u001b[0m\u001b[0m\n\u001b[0m",
            "\u001b[0;31mValueError\u001b[0m: operands could not be broadcast together with shapes (5,) (3,4) "
          ]
        }
      ]
    },
    {
      "cell_type": "markdown",
      "source": [
        "Generating random numbers"
      ],
      "metadata": {
        "id": "dgGHEPId5ue-"
      }
    },
    {
      "cell_type": "code",
      "source": [
        "print(np.random.randint(100))"
      ],
      "metadata": {
        "colab": {
          "base_uri": "https://localhost:8080/"
        },
        "id": "9ZprAtMW3aKL",
        "outputId": "9d4ae76f-eab3-4e50-f01b-b340fa620ea3"
      },
      "execution_count": 39,
      "outputs": [
        {
          "output_type": "stream",
          "name": "stdout",
          "text": [
            "74\n"
          ]
        }
      ]
    },
    {
      "cell_type": "code",
      "source": [
        "print(np.random.rand())"
      ],
      "metadata": {
        "colab": {
          "base_uri": "https://localhost:8080/"
        },
        "id": "vYI38Qyd5miF",
        "outputId": "6f10dfd3-45b3-4462-c172-061c2b6e5db8"
      },
      "execution_count": 40,
      "outputs": [
        {
          "output_type": "stream",
          "name": "stdout",
          "text": [
            "0.2383677196414784\n"
          ]
        }
      ]
    },
    {
      "cell_type": "code",
      "source": [
        "# generating random array\n",
        "# 1D Array\n",
        "x = np.random.randint(100, size = (4))\n",
        "print(x)\n",
        "print(\"------------------------------\")\n",
        "\n",
        "#2D Array\n",
        "y = np.random.randint(20, size = (3,4))\n",
        "print(y)\n",
        "print(\"------------------------------\")\n",
        "\n",
        "#3D Array\n",
        "z = np.random.randint(20,size = (2,3,4))\n",
        "print(z)"
      ],
      "metadata": {
        "colab": {
          "base_uri": "https://localhost:8080/"
        },
        "id": "_DRAaOff6puY",
        "outputId": "9084c5cd-7eb5-4c54-db59-c55fb33e4ce5"
      },
      "execution_count": 44,
      "outputs": [
        {
          "output_type": "stream",
          "name": "stdout",
          "text": [
            "[36 32 60 15]\n",
            "------------------------------\n",
            "[[19 13 13 14]\n",
            " [12  0  6 15]\n",
            " [ 1  0  1 14]]\n",
            "------------------------------\n",
            "[[[ 2 19  6 19]\n",
            "  [19 17 16 19]\n",
            "  [ 4  4  2 18]]\n",
            "\n",
            " [[ 1 12  6  0]\n",
            "  [16  7  6  6]\n",
            "  [10 16  5  0]]]\n"
          ]
        }
      ]
    },
    {
      "cell_type": "code",
      "source": [
        "# 1D Array\n",
        "q = np.random.rand(3)\n",
        "print(q)\n",
        "print(\"-------------------------\")\n",
        "#2D Array\n",
        "w = np.random.rand(3,5)\n",
        "print(w)\n",
        "print(\"-------------------------\")\n",
        "#3D Array\n",
        "e = np.random.rand(3,3,4)\n",
        "print(e)"
      ],
      "metadata": {
        "colab": {
          "base_uri": "https://localhost:8080/"
        },
        "id": "6bPJ1ojj6z83",
        "outputId": "d6615c78-2564-4cbc-93c4-c34e1089fdf8"
      },
      "execution_count": 47,
      "outputs": [
        {
          "output_type": "stream",
          "name": "stdout",
          "text": [
            "[0.62848095 0.08728559 0.2909885 ]\n",
            "-------------------------\n",
            "[[0.09313346 0.22372729 0.07883358 0.27298593 0.99124076]\n",
            " [0.59111799 0.95375714 0.53266524 0.96590045 0.10130547]\n",
            " [0.65697861 0.09226971 0.31062409 0.48943708 0.96090923]]\n",
            "-------------------------\n",
            "[[[0.93378228 0.29502154 0.86660115 0.08223242]\n",
            "  [0.6563761  0.00867113 0.24448676 0.06538938]\n",
            "  [0.79520493 0.13139408 0.12839066 0.69369759]]\n",
            "\n",
            " [[0.96091697 0.6466432  0.07366846 0.11967963]\n",
            "  [0.47552764 0.04846017 0.26504915 0.14942459]\n",
            "  [0.12488102 0.14871406 0.48317909 0.69089345]]\n",
            "\n",
            " [[0.45549034 0.11368008 0.24454633 0.28768374]\n",
            "  [0.46745343 0.23306913 0.71851962 0.00341599]\n",
            "  [0.55993286 0.47398309 0.93946599 0.00320335]]]\n"
          ]
        }
      ]
    },
    {
      "cell_type": "markdown",
      "source": [
        "# unique values\n"
      ],
      "metadata": {
        "id": "X--EbRQx9T9H"
      }
    },
    {
      "cell_type": "code",
      "source": [
        "a = np.array([11, 11, 12, 13, 14, 15, 16, 17, 12, 13, 11, 14, 18, 19, 20])\n",
        "print(a)\n",
        "print(\"------------------\")\n",
        "unique_values = np.unique(a)\n",
        "print(unique_values)"
      ],
      "metadata": {
        "colab": {
          "base_uri": "https://localhost:8080/"
        },
        "id": "p3XeInJO8E-_",
        "outputId": "a90dd559-04da-4a59-c3c0-aec1b74b6bec"
      },
      "execution_count": 49,
      "outputs": [
        {
          "output_type": "stream",
          "name": "stdout",
          "text": [
            "[11 11 12 13 14 15 16 17 12 13 11 14 18 19 20]\n",
            "------------------\n",
            "[11 12 13 14 15 16 17 18 19 20]\n"
          ]
        }
      ]
    },
    {
      "cell_type": "markdown",
      "source": [
        "\n",
        "# The transpose of a matrix\n",
        "The transpose of a matrix is an operation that flips the matrix over its diagonal, effectively swapping its rows and columns. If you have a matrix A, denoted as A^T, the transpose of A is obtained by making the rows of A become the columns of A^T and vice versa."
      ],
      "metadata": {
        "id": "RSZP_ZzR-3pL"
      }
    },
    {
      "cell_type": "code",
      "source": [
        "x = np.arange(30).reshape(5,6)\n",
        "print(x)\n",
        "print(\"----------------------\")\n",
        "print(\"Transpose of the matrix 'x'\")\n",
        "print(x.transpose()) # use .transpose() or .T()"
      ],
      "metadata": {
        "colab": {
          "base_uri": "https://localhost:8080/"
        },
        "id": "2WpKQsQR9XYb",
        "outputId": "595c9e05-157f-4b84-8494-2e15c1403438"
      },
      "execution_count": 54,
      "outputs": [
        {
          "output_type": "stream",
          "name": "stdout",
          "text": [
            "[[ 0  1  2  3  4  5]\n",
            " [ 6  7  8  9 10 11]\n",
            " [12 13 14 15 16 17]\n",
            " [18 19 20 21 22 23]\n",
            " [24 25 26 27 28 29]]\n",
            "----------------------\n",
            "Transpose of the matrix 'x'\n",
            "[[ 0  6 12 18 24]\n",
            " [ 1  7 13 19 25]\n",
            " [ 2  8 14 20 26]\n",
            " [ 3  9 15 21 27]\n",
            " [ 4 10 16 22 28]\n",
            " [ 5 11 17 23 29]]\n"
          ]
        }
      ]
    },
    {
      "cell_type": "code",
      "source": [
        "y = np.arange(20).reshape(4,5)\n",
        "print(y)\n",
        "print(\"----------------------\")\n",
        "print(\"Transpose of the matrix \\'y\\'\")\n",
        "print(y.T)\n"
      ],
      "metadata": {
        "colab": {
          "base_uri": "https://localhost:8080/"
        },
        "id": "9LuXETMv_Pg5",
        "outputId": "54fce0ae-56e3-4901-aaa8-39ec3a42d8fa"
      },
      "execution_count": 58,
      "outputs": [
        {
          "output_type": "stream",
          "name": "stdout",
          "text": [
            "[[ 0  1  2  3  4]\n",
            " [ 5  6  7  8  9]\n",
            " [10 11 12 13 14]\n",
            " [15 16 17 18 19]]\n",
            "----------------------\n",
            "Transpose of the matrix 'y'\n",
            "[[ 0  5 10 15]\n",
            " [ 1  6 11 16]\n",
            " [ 2  7 12 17]\n",
            " [ 3  8 13 18]\n",
            " [ 4  9 14 19]]\n"
          ]
        }
      ]
    },
    {
      "cell_type": "markdown",
      "source": [
        "#The Difference Between Copy and View\n",
        "1. The main difference between a copy and a view of an array is that the copy is a new array, and the view is just a view of the original array.\n",
        "\n",
        "2. The copy owns the data and any changes made to the copy will not affect original array, and any changes made to the original array will not affect the copy.\n",
        "\n",
        "3. The view does not own the data and any changes made to the view will affect the original array, and any changes made to the original array will affect the view."
      ],
      "metadata": {
        "id": "Cs2UWQcGCxgi"
      }
    },
    {
      "cell_type": "code",
      "source": [
        "arr = np.array([1, 2, 3, 4, 5])\n",
        "x = arr.copy()\n",
        "print(f\"This is the original array: {arr}\")\n",
        "print(f\"This is the copy of \\'arr\\': {x}\")"
      ],
      "metadata": {
        "colab": {
          "base_uri": "https://localhost:8080/"
        },
        "id": "xiN8zzzSAGLS",
        "outputId": "8efea785-2ba1-4def-aaff-72d52e0f2f9e"
      },
      "execution_count": 63,
      "outputs": [
        {
          "output_type": "stream",
          "name": "stdout",
          "text": [
            "This is the original array: [1 2 3 4 5]\n",
            "This is the copy of 'arr': [1 2 3 4 5]\n"
          ]
        }
      ]
    },
    {
      "cell_type": "code",
      "source": [
        "x[0] = 234\n",
        "print(arr)\n",
        "print(x)"
      ],
      "metadata": {
        "colab": {
          "base_uri": "https://localhost:8080/"
        },
        "id": "UBVjmDzHDIwp",
        "outputId": "182d5e04-e6e3-4a7a-f04d-be1ddfb634da"
      },
      "execution_count": 65,
      "outputs": [
        {
          "output_type": "stream",
          "name": "stdout",
          "text": [
            "[1 2 3 4 5]\n",
            "[234   2   3   4   5]\n"
          ]
        }
      ]
    },
    {
      "cell_type": "code",
      "source": [
        "arr[3] =345\n",
        "print(x)\n",
        "print(arr)"
      ],
      "metadata": {
        "colab": {
          "base_uri": "https://localhost:8080/"
        },
        "id": "gzInX0JED0fG",
        "outputId": "f6bdecb6-5d2b-43ec-c3ec-e548d73aa2cf"
      },
      "execution_count": 66,
      "outputs": [
        {
          "output_type": "stream",
          "name": "stdout",
          "text": [
            "[234   2   3   4   5]\n",
            "[  1   2   3 345   5]\n"
          ]
        }
      ]
    },
    {
      "cell_type": "code",
      "source": [
        "arr = np.array([1, 2, 3, 4, 5])\n",
        "y = arr.view()\n",
        "print(f\"This is the original array: {arr}\")\n",
        "print(f\"This is the view of \\'arr\\': {y}\")"
      ],
      "metadata": {
        "colab": {
          "base_uri": "https://localhost:8080/"
        },
        "id": "CCAoon7YD7-H",
        "outputId": "c57bc5ec-720f-441f-82cc-12de9ddd0ab4"
      },
      "execution_count": 67,
      "outputs": [
        {
          "output_type": "stream",
          "name": "stdout",
          "text": [
            "This is the original array: [1 2 3 4 5]\n",
            "This is the view of 'arr': [1 2 3 4 5]\n"
          ]
        }
      ]
    },
    {
      "cell_type": "code",
      "source": [
        "arr[3] = 100\n",
        "print(arr)\n",
        "print(y)"
      ],
      "metadata": {
        "colab": {
          "base_uri": "https://localhost:8080/"
        },
        "id": "Gl4_jynWEHDQ",
        "outputId": "ec74a3c6-07b7-4e0a-e182-de80bd19c6d3"
      },
      "execution_count": 68,
      "outputs": [
        {
          "output_type": "stream",
          "name": "stdout",
          "text": [
            "[  1   2   3 100   5]\n",
            "[  1   2   3 100   5]\n"
          ]
        }
      ]
    },
    {
      "cell_type": "code",
      "source": [
        "y[1] = 34\n",
        "print(arr)\n",
        "print(y)"
      ],
      "metadata": {
        "colab": {
          "base_uri": "https://localhost:8080/"
        },
        "id": "JV6qFDMnELw7",
        "outputId": "86b36838-5339-4f8f-a906-6c6683ae4662"
      },
      "execution_count": 69,
      "outputs": [
        {
          "output_type": "stream",
          "name": "stdout",
          "text": [
            "[  1  34   3 100   5]\n",
            "[  1  34   3 100   5]\n"
          ]
        }
      ]
    },
    {
      "cell_type": "code",
      "source": [],
      "metadata": {
        "id": "UbObXv5nER9J"
      },
      "execution_count": null,
      "outputs": []
    }
  ]
}